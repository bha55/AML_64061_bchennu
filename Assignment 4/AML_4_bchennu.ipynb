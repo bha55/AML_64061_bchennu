{
  "nbformat": 4,
  "nbformat_minor": 0,
  "metadata": {
    "colab": {
      "provenance": [],
      "machine_shape": "hm",
      "gpuType": "L4"
    },
    "kernelspec": {
      "name": "python3",
      "display_name": "Python 3"
    },
    "language_info": {
      "name": "python"
    },
    "accelerator": "GPU"
  },
  "cells": [
    {
      "cell_type": "markdown",
      "source": [
        "Downloading IMDB Dataset"
      ],
      "metadata": {
        "id": "WR_PhROY9uha"
      }
    },
    {
      "cell_type": "code",
      "execution_count": 56,
      "metadata": {
        "id": "HYlZsclewdhZ",
        "outputId": "43a6b68b-a083-40be-b0e3-c61e126166ac",
        "colab": {
          "base_uri": "https://localhost:8080/"
        }
      },
      "outputs": [
        {
          "output_type": "stream",
          "name": "stdout",
          "text": [
            "  % Total    % Received % Xferd  Average Speed   Time    Time     Time  Current\n",
            "                                 Dload  Upload   Total   Spent    Left  Speed\n",
            "100 80.2M  100 80.2M    0     0  49.3M      0  0:00:01  0:00:01 --:--:-- 49.3M\n"
          ]
        }
      ],
      "source": [
        "!curl -O https://ai.stanford.edu/~amaas/data/sentiment/aclImdb_v1.tar.gz\n",
        "!tar -xf aclImdb_v1.tar.gz\n",
        "!rm -r aclImdb/train/unsup"
      ]
    },
    {
      "cell_type": "markdown",
      "metadata": {
        "id": "q35skPtfwdha"
      },
      "source": [
        "**Preparing the data**"
      ]
    },
    {
      "cell_type": "code",
      "source": [
        "shutil.rmtree('aclImdb/val')"
      ],
      "metadata": {
        "id": "oe0mGygPNXyz"
      },
      "execution_count": 57,
      "outputs": []
    },
    {
      "cell_type": "code",
      "execution_count": 58,
      "metadata": {
        "id": "utLS2B-rwdha"
      },
      "outputs": [],
      "source": [
        "import os, pathlib, shutil, random\n",
        "from tensorflow import keras\n",
        "batch_size = 32\n",
        "base_dir = pathlib.Path(\"aclImdb\")\n",
        "val_dir = base_dir / \"val\"\n",
        "train_n = base_dir / \"train_n\"\n",
        "train_dir = base_dir / \"train\"\n",
        "for category in (\"neg\", \"pos\"):\n",
        "    os.makedirs(val_dir / category)\n",
        "    files = os.listdir(train_dir / category)\n",
        "    random.Random(1337).shuffle(files)\n",
        "    num_val_samples = 10000\n",
        "    val_files = files[-num_val_samples:]\n",
        "    for fname in val_files:\n",
        "        shutil.move(train_dir / category / fname,\n",
        "                    val_dir / category / fname)"
      ]
    },
    {
      "cell_type": "code",
      "source": [
        "shutil.rmtree('aclImdb/train_n')"
      ],
      "metadata": {
        "id": "GnZbMF_0Hp0d"
      },
      "execution_count": 60,
      "outputs": []
    },
    {
      "cell_type": "markdown",
      "source": [
        "# Training Sample Size: 100"
      ],
      "metadata": {
        "id": "v8_S7U_tLr3D"
      }
    },
    {
      "cell_type": "code",
      "source": [
        "for category in (\"neg\", \"pos\"):\n",
        "    os.makedirs(train_n / category)\n",
        "    files = os.listdir(train_dir / category)\n",
        "    num_train_samples=100\n",
        "    train_files = files[-num_train_samples:]\n",
        "    for fname in train_files:\n",
        "        shutil.move(train_dir / category / fname,\n",
        "                    train_n / category / fname)\n",
        "\n",
        "train_ds = keras.utils.text_dataset_from_directory(\n",
        "    \"aclImdb/train_n\", batch_size=batch_size\n",
        ")\n",
        "val_ds = keras.utils.text_dataset_from_directory(\n",
        "    \"aclImdb/val\", batch_size=batch_size\n",
        ")\n",
        "test_ds = keras.utils.text_dataset_from_directory(\n",
        "    \"aclImdb/test\", batch_size=batch_size\n",
        ")\n",
        "text_only_train_ds = train_ds.map(lambda x, y: x)"
      ],
      "metadata": {
        "colab": {
          "base_uri": "https://localhost:8080/"
        },
        "id": "VZykVrNW9_mz",
        "outputId": "0a7d0ecb-72a1-4ab9-a119-050b637014d0"
      },
      "execution_count": 61,
      "outputs": [
        {
          "output_type": "stream",
          "name": "stdout",
          "text": [
            "Found 200 files belonging to 2 classes.\n",
            "Found 20000 files belonging to 2 classes.\n",
            "Found 25000 files belonging to 2 classes.\n"
          ]
        }
      ]
    },
    {
      "cell_type": "markdown",
      "metadata": {
        "id": "FIYRX-EEwdhb"
      },
      "source": [
        "**Preparing integer sequence datasets**"
      ]
    },
    {
      "cell_type": "code",
      "execution_count": 63,
      "metadata": {
        "id": "stZYhV6Gwdhb"
      },
      "outputs": [],
      "source": [
        "from tensorflow.keras import layers\n",
        "\n",
        "max_length = 150\n",
        "max_tokens = 10000\n",
        "text_vectorization = layers.TextVectorization(\n",
        "    max_tokens=max_tokens,\n",
        "    output_mode=\"int\",\n",
        "    output_sequence_length=max_length,\n",
        ")\n",
        "text_vectorization.adapt(text_only_train_ds)\n",
        "\n",
        "int_train_ds = train_ds.map(\n",
        "    lambda x, y: (text_vectorization(x), y),\n",
        "    num_parallel_calls=4)\n",
        "int_val_ds = val_ds.map(\n",
        "    lambda x, y: (text_vectorization(x), y),\n",
        "    num_parallel_calls=4)\n",
        "int_test_ds = test_ds.map(\n",
        "    lambda x, y: (text_vectorization(x), y),\n",
        "    num_parallel_calls=4)"
      ]
    },
    {
      "cell_type": "markdown",
      "metadata": {
        "id": "Zpv8zlCawdhc"
      },
      "source": [
        "**A sequence model built on one-hot encoded vector sequences**"
      ]
    },
    {
      "cell_type": "code",
      "execution_count": 64,
      "metadata": {
        "id": "1Dtqenccwdhc",
        "outputId": "c37125cd-8751-44bf-ba20-eaf6f04cfe3f",
        "colab": {
          "base_uri": "https://localhost:8080/"
        }
      },
      "outputs": [
        {
          "output_type": "stream",
          "name": "stdout",
          "text": [
            "Model: \"model_17\"\n",
            "_________________________________________________________________\n",
            " Layer (type)                Output Shape              Param #   \n",
            "=================================================================\n",
            " input_18 (InputLayer)       [(None, None)]            0         \n",
            "                                                                 \n",
            " tf.one_hot_4 (TFOpLambda)   (None, None, 10000)       0         \n",
            "                                                                 \n",
            " bidirectional_17 (Bidirect  (None, 64)                2568448   \n",
            " ional)                                                          \n",
            "                                                                 \n",
            " dropout_17 (Dropout)        (None, 64)                0         \n",
            "                                                                 \n",
            " dense_17 (Dense)            (None, 1)                 65        \n",
            "                                                                 \n",
            "=================================================================\n",
            "Total params: 2568513 (9.80 MB)\n",
            "Trainable params: 2568513 (9.80 MB)\n",
            "Non-trainable params: 0 (0.00 Byte)\n",
            "_________________________________________________________________\n"
          ]
        }
      ],
      "source": [
        "import tensorflow as tf\n",
        "inputs = keras.Input(shape=(None,), dtype=\"int64\")\n",
        "embedded = tf.one_hot(inputs, depth=max_tokens)\n",
        "x = layers.Bidirectional(layers.LSTM(32))(embedded)\n",
        "x = layers.Dropout(0.5)(x)\n",
        "outputs = layers.Dense(1, activation=\"relu\")(x)\n",
        "model = keras.Model(inputs, outputs)\n",
        "model.compile(optimizer=\"rmsprop\",\n",
        "              loss=\"binary_crossentropy\",\n",
        "              metrics=[\"accuracy\"])\n",
        "model.summary()"
      ]
    },
    {
      "cell_type": "markdown",
      "metadata": {
        "id": "4FhHBichwdhc"
      },
      "source": [
        "**Training a first basic sequence model**"
      ]
    },
    {
      "cell_type": "code",
      "execution_count": 65,
      "metadata": {
        "id": "wDs1Vmeewdhd",
        "outputId": "fd58df63-dc33-4f54-a43f-51d18598561f",
        "colab": {
          "base_uri": "https://localhost:8080/"
        }
      },
      "outputs": [
        {
          "output_type": "stream",
          "name": "stdout",
          "text": [
            "Epoch 1/10\n",
            "7/7 [==============================] - 12s 1s/step - loss: 1.8091 - accuracy: 0.5000 - val_loss: 1.0221 - val_accuracy: 0.5000\n",
            "Epoch 2/10\n",
            "7/7 [==============================] - 8s 1s/step - loss: 0.8707 - accuracy: 0.5000 - val_loss: 0.7331 - val_accuracy: 0.5000\n",
            "Epoch 3/10\n",
            "7/7 [==============================] - 8s 1s/step - loss: 0.7080 - accuracy: 0.6400 - val_loss: 0.7438 - val_accuracy: 0.5000\n",
            "Epoch 4/10\n",
            "7/7 [==============================] - 8s 1s/step - loss: 0.6363 - accuracy: 0.6200 - val_loss: 0.7506 - val_accuracy: 0.5000\n",
            "Epoch 5/10\n",
            "7/7 [==============================] - 8s 1s/step - loss: 0.5680 - accuracy: 0.7150 - val_loss: 0.6849 - val_accuracy: 0.5288\n",
            "Epoch 6/10\n",
            "7/7 [==============================] - 8s 1s/step - loss: 0.5226 - accuracy: 0.7450 - val_loss: 0.7532 - val_accuracy: 0.5000\n",
            "Epoch 7/10\n",
            "7/7 [==============================] - 8s 1s/step - loss: 0.4505 - accuracy: 0.8450 - val_loss: 0.6879 - val_accuracy: 0.5199\n",
            "Epoch 8/10\n",
            "7/7 [==============================] - 8s 1s/step - loss: 0.8693 - accuracy: 0.7550 - val_loss: 0.7041 - val_accuracy: 0.5081\n",
            "Epoch 9/10\n",
            "7/7 [==============================] - 8s 1s/step - loss: 0.2954 - accuracy: 0.9550 - val_loss: 0.6376 - val_accuracy: 0.6514\n",
            "Epoch 10/10\n",
            "7/7 [==============================] - 8s 1s/step - loss: 0.1882 - accuracy: 0.9650 - val_loss: 0.7546 - val_accuracy: 0.5155\n",
            "782/782 [==============================] - 12s 13ms/step - loss: 0.6386 - accuracy: 0.6538\n",
            "Test acc: 0.654\n"
          ]
        }
      ],
      "source": [
        "callbacks = [\n",
        "    keras.callbacks.ModelCheckpoint(\"one_hot_bidir_lstm.keras\",\n",
        "                                    save_best_only=True,\n",
        "                                    monitor=\"val_loss\")\n",
        "]\n",
        "model.fit(int_train_ds, validation_data=int_val_ds, epochs=10, callbacks=callbacks)\n",
        "model = keras.models.load_model(\"one_hot_bidir_lstm.keras\")\n",
        "print(f\"Test acc: {model.evaluate(int_test_ds)[1]:.3f}\")"
      ]
    },
    {
      "cell_type": "markdown",
      "metadata": {
        "id": "awodVR74wdhd"
      },
      "source": [
        "**Instantiating an `Embedding` layer**"
      ]
    },
    {
      "cell_type": "code",
      "execution_count": 66,
      "metadata": {
        "id": "AuGd7oNbwdhd"
      },
      "outputs": [],
      "source": [
        "embedding_layer = layers.Embedding(input_dim=max_tokens, output_dim=256)"
      ]
    },
    {
      "cell_type": "markdown",
      "metadata": {
        "id": "u1MGc8Yhwdhd"
      },
      "source": [
        "**Model that uses an `Embedding` layer trained from scratch**"
      ]
    },
    {
      "cell_type": "code",
      "execution_count": 68,
      "metadata": {
        "id": "DZnTdOluwdhe",
        "outputId": "94496ea7-678f-473b-d749-88c1bf5786a5",
        "colab": {
          "base_uri": "https://localhost:8080/"
        }
      },
      "outputs": [
        {
          "output_type": "stream",
          "name": "stdout",
          "text": [
            "Model: \"model_19\"\n",
            "_________________________________________________________________\n",
            " Layer (type)                Output Shape              Param #   \n",
            "=================================================================\n",
            " input_20 (InputLayer)       [(None, None)]            0         \n",
            "                                                                 \n",
            " embedding_12 (Embedding)    (None, None, 256)         2560000   \n",
            "                                                                 \n",
            " bidirectional_19 (Bidirect  (None, 64)                73984     \n",
            " ional)                                                          \n",
            "                                                                 \n",
            " dropout_19 (Dropout)        (None, 64)                0         \n",
            "                                                                 \n",
            " dense_19 (Dense)            (None, 1)                 65        \n",
            "                                                                 \n",
            "=================================================================\n",
            "Total params: 2634049 (10.05 MB)\n",
            "Trainable params: 2634049 (10.05 MB)\n",
            "Non-trainable params: 0 (0.00 Byte)\n",
            "_________________________________________________________________\n"
          ]
        }
      ],
      "source": [
        "inputs = keras.Input(shape=(None,), dtype=\"int64\")\n",
        "embedded = layers.Embedding(input_dim=max_tokens, output_dim=256)(inputs)\n",
        "x = layers.Bidirectional(layers.LSTM(32))(embedded)\n",
        "x = layers.Dropout(0.5)(x)\n",
        "outputs = layers.Dense(1, activation=\"relu\")(x)\n",
        "model = keras.Model(inputs, outputs)\n",
        "model.compile(optimizer=\"rmsprop\",\n",
        "              loss=\"binary_crossentropy\",\n",
        "              metrics=[\"accuracy\"])\n",
        "model.summary()\n",
        "\n"
      ]
    },
    {
      "cell_type": "code",
      "source": [
        "callbacks = [\n",
        "    keras.callbacks.ModelCheckpoint(\"embeddings_bidir_gru.keras\",\n",
        "                                    save_best_only=True,\n",
        "                                    monitor=\"val_loss\")\n",
        "]\n",
        "model.fit(int_train_ds, validation_data=int_val_ds, epochs=10, callbacks=callbacks)\n",
        "model = keras.models.load_model(\"embeddings_bidir_gru.keras\")\n",
        "print(f\"Test acc: {model.evaluate(int_test_ds)[1]:.3f}\")"
      ],
      "metadata": {
        "colab": {
          "base_uri": "https://localhost:8080/"
        },
        "id": "BoogGWNoEe6R",
        "outputId": "c8914d18-a6ea-4660-9628-53aabcecf688"
      },
      "execution_count": 69,
      "outputs": [
        {
          "output_type": "stream",
          "name": "stdout",
          "text": [
            "Epoch 1/10\n",
            "7/7 [==============================] - 9s 911ms/step - loss: 1.6602 - accuracy: 0.5050 - val_loss: 0.8808 - val_accuracy: 0.5000\n",
            "Epoch 2/10\n",
            "7/7 [==============================] - 5s 787ms/step - loss: 0.7400 - accuracy: 0.5400 - val_loss: 0.7357 - val_accuracy: 0.5069\n",
            "Epoch 3/10\n",
            "7/7 [==============================] - 5s 764ms/step - loss: 0.6072 - accuracy: 0.6650 - val_loss: 0.7056 - val_accuracy: 0.5181\n",
            "Epoch 4/10\n",
            "7/7 [==============================] - 5s 738ms/step - loss: 0.5148 - accuracy: 0.7650 - val_loss: 0.6833 - val_accuracy: 0.5554\n",
            "Epoch 5/10\n",
            "7/7 [==============================] - 4s 723ms/step - loss: 0.4763 - accuracy: 0.8150 - val_loss: 0.7121 - val_accuracy: 0.5469\n",
            "Epoch 6/10\n",
            "7/7 [==============================] - 5s 791ms/step - loss: 0.2438 - accuracy: 0.9600 - val_loss: 0.7288 - val_accuracy: 0.5652\n",
            "Epoch 7/10\n",
            "7/7 [==============================] - 5s 775ms/step - loss: 0.1281 - accuracy: 0.9850 - val_loss: 0.7296 - val_accuracy: 0.6015\n",
            "Epoch 8/10\n",
            "7/7 [==============================] - 5s 742ms/step - loss: 0.0465 - accuracy: 0.9950 - val_loss: 0.9009 - val_accuracy: 0.6114\n",
            "Epoch 9/10\n",
            "7/7 [==============================] - 4s 722ms/step - loss: 0.0177 - accuracy: 1.0000 - val_loss: 1.6242 - val_accuracy: 0.6116\n",
            "Epoch 10/10\n",
            "7/7 [==============================] - 4s 715ms/step - loss: 0.0359 - accuracy: 0.9900 - val_loss: 1.0082 - val_accuracy: 0.5983\n",
            "782/782 [==============================] - 7s 7ms/step - loss: 0.6827 - accuracy: 0.5580\n",
            "Test acc: 0.558\n"
          ]
        }
      ]
    },
    {
      "cell_type": "markdown",
      "metadata": {
        "id": "GUJLu4MQwdhe"
      },
      "source": [
        "#### Understanding padding and masking"
      ]
    },
    {
      "cell_type": "markdown",
      "metadata": {
        "id": "GxDEK0wMwdhe"
      },
      "source": [
        "**Using an `Embedding` layer with masking enabled**"
      ]
    },
    {
      "cell_type": "code",
      "execution_count": 70,
      "metadata": {
        "id": "J4ufuH21wdhe",
        "outputId": "057a9e72-4fad-4a6a-d931-c6b41b71eee8",
        "colab": {
          "base_uri": "https://localhost:8080/"
        }
      },
      "outputs": [
        {
          "output_type": "stream",
          "name": "stdout",
          "text": [
            "Model: \"model_20\"\n",
            "_________________________________________________________________\n",
            " Layer (type)                Output Shape              Param #   \n",
            "=================================================================\n",
            " input_21 (InputLayer)       [(None, None)]            0         \n",
            "                                                                 \n",
            " embedding_13 (Embedding)    (None, None, 256)         2560000   \n",
            "                                                                 \n",
            " bidirectional_20 (Bidirect  (None, 64)                73984     \n",
            " ional)                                                          \n",
            "                                                                 \n",
            " dropout_20 (Dropout)        (None, 64)                0         \n",
            "                                                                 \n",
            " dense_20 (Dense)            (None, 1)                 65        \n",
            "                                                                 \n",
            "=================================================================\n",
            "Total params: 2634049 (10.05 MB)\n",
            "Trainable params: 2634049 (10.05 MB)\n",
            "Non-trainable params: 0 (0.00 Byte)\n",
            "_________________________________________________________________\n"
          ]
        }
      ],
      "source": [
        "inputs = keras.Input(shape=(None,), dtype=\"int64\")\n",
        "embedded = layers.Embedding(\n",
        "    input_dim=max_tokens, output_dim=256, mask_zero=True)(inputs)\n",
        "x = layers.Bidirectional(layers.LSTM(32))(embedded)\n",
        "x = layers.Dropout(0.5)(x)\n",
        "outputs = layers.Dense(1, activation=\"relu\")(x)\n",
        "model = keras.Model(inputs, outputs)\n",
        "model.compile(optimizer=\"rmsprop\",\n",
        "              loss=\"binary_crossentropy\",\n",
        "              metrics=[\"accuracy\"])\n",
        "model.summary()\n",
        "\n"
      ]
    },
    {
      "cell_type": "code",
      "source": [
        "callbacks = [\n",
        "    keras.callbacks.ModelCheckpoint(\"embeddings_bidir_gru_with_masking.keras\",\n",
        "                                    save_best_only=True)\n",
        "]\n",
        "model.fit(int_train_ds, validation_data=int_val_ds, epochs=10, callbacks=callbacks)\n",
        "model = keras.models.load_model(\"embeddings_bidir_gru_with_masking.keras\")\n",
        "print(f\"Test acc: {model.evaluate(int_test_ds)[1]:.3f}\")"
      ],
      "metadata": {
        "colab": {
          "base_uri": "https://localhost:8080/"
        },
        "id": "5wgPOFj4Euy9",
        "outputId": "33e6f9da-ae15-4689-85ab-ab6428e2bc98"
      },
      "execution_count": 71,
      "outputs": [
        {
          "output_type": "stream",
          "name": "stdout",
          "text": [
            "Epoch 1/10\n",
            "7/7 [==============================] - 16s 1s/step - loss: 1.8803 - accuracy: 0.5000 - val_loss: 1.1719 - val_accuracy: 0.5000\n",
            "Epoch 2/10\n",
            "7/7 [==============================] - 5s 832ms/step - loss: 0.9612 - accuracy: 0.5000 - val_loss: 1.0232 - val_accuracy: 0.5000\n",
            "Epoch 3/10\n",
            "7/7 [==============================] - 5s 832ms/step - loss: 0.7860 - accuracy: 0.5000 - val_loss: 0.8841 - val_accuracy: 0.5000\n",
            "Epoch 4/10\n",
            "7/7 [==============================] - 5s 812ms/step - loss: 0.6177 - accuracy: 0.5400 - val_loss: 0.7503 - val_accuracy: 0.5078\n",
            "Epoch 5/10\n",
            "7/7 [==============================] - 5s 824ms/step - loss: 0.5158 - accuracy: 0.7300 - val_loss: 0.7387 - val_accuracy: 0.5120\n",
            "Epoch 6/10\n",
            "7/7 [==============================] - 5s 834ms/step - loss: 0.3970 - accuracy: 0.8800 - val_loss: 0.7187 - val_accuracy: 0.5251\n",
            "Epoch 7/10\n",
            "7/7 [==============================] - 5s 793ms/step - loss: 0.2462 - accuracy: 0.9750 - val_loss: 0.7244 - val_accuracy: 0.5343\n",
            "Epoch 8/10\n",
            "7/7 [==============================] - 5s 808ms/step - loss: 0.1459 - accuracy: 0.9850 - val_loss: 0.6855 - val_accuracy: 0.5971\n",
            "Epoch 9/10\n",
            "7/7 [==============================] - 5s 771ms/step - loss: 0.0562 - accuracy: 0.9950 - val_loss: 0.9840 - val_accuracy: 0.5170\n",
            "Epoch 10/10\n",
            "7/7 [==============================] - 5s 776ms/step - loss: 0.0187 - accuracy: 1.0000 - val_loss: 1.1697 - val_accuracy: 0.5159\n",
            "782/782 [==============================] - 10s 7ms/step - loss: 0.6830 - accuracy: 0.5974\n",
            "Test acc: 0.597\n"
          ]
        }
      ]
    },
    {
      "cell_type": "markdown",
      "metadata": {
        "id": "nl8tO2Juwdhe"
      },
      "source": [
        "#### Using pretrained word embeddings"
      ]
    },
    {
      "cell_type": "code",
      "execution_count": 13,
      "metadata": {
        "colab": {
          "base_uri": "https://localhost:8080/"
        },
        "id": "CtlOslROwdhe",
        "outputId": "0d1aec91-e925-4951-d920-a7eb8587dba5"
      },
      "outputs": [
        {
          "output_type": "stream",
          "name": "stdout",
          "text": [
            "--2024-05-05 03:11:57--  http://nlp.stanford.edu/data/glove.6B.zip\n",
            "Resolving nlp.stanford.edu (nlp.stanford.edu)... 171.64.67.140\n",
            "Connecting to nlp.stanford.edu (nlp.stanford.edu)|171.64.67.140|:80... connected.\n",
            "HTTP request sent, awaiting response... 302 Found\n",
            "Location: https://nlp.stanford.edu/data/glove.6B.zip [following]\n",
            "--2024-05-05 03:11:57--  https://nlp.stanford.edu/data/glove.6B.zip\n",
            "Connecting to nlp.stanford.edu (nlp.stanford.edu)|171.64.67.140|:443... connected.\n",
            "HTTP request sent, awaiting response... 301 Moved Permanently\n",
            "Location: https://downloads.cs.stanford.edu/nlp/data/glove.6B.zip [following]\n",
            "--2024-05-05 03:11:57--  https://downloads.cs.stanford.edu/nlp/data/glove.6B.zip\n",
            "Resolving downloads.cs.stanford.edu (downloads.cs.stanford.edu)... 171.64.64.22\n",
            "Connecting to downloads.cs.stanford.edu (downloads.cs.stanford.edu)|171.64.64.22|:443... connected.\n",
            "HTTP request sent, awaiting response... 200 OK\n",
            "Length: 862182613 (822M) [application/zip]\n",
            "Saving to: ‘glove.6B.zip’\n",
            "\n",
            "glove.6B.zip        100%[===================>] 822.24M  5.01MB/s    in 2m 39s  \n",
            "\n",
            "2024-05-05 03:14:36 (5.17 MB/s) - ‘glove.6B.zip’ saved [862182613/862182613]\n",
            "\n"
          ]
        }
      ],
      "source": [
        "!wget http://nlp.stanford.edu/data/glove.6B.zip\n",
        "!unzip -q glove.6B.zip"
      ]
    },
    {
      "cell_type": "markdown",
      "metadata": {
        "id": "JFGWjpSUwdhe"
      },
      "source": [
        "**Parsing the GloVe word-embeddings file**"
      ]
    },
    {
      "cell_type": "code",
      "execution_count": 14,
      "metadata": {
        "id": "O18QPkdywdhe",
        "colab": {
          "base_uri": "https://localhost:8080/"
        },
        "outputId": "71a242a0-f4b5-4bbe-a11e-7eeb65c887bb"
      },
      "outputs": [
        {
          "output_type": "stream",
          "name": "stdout",
          "text": [
            "Found 400000 word vectors.\n"
          ]
        }
      ],
      "source": [
        "import numpy as np\n",
        "path_to_glove_file = \"glove.6B.100d.txt\"\n",
        "\n",
        "embeddings_index = {}\n",
        "with open(path_to_glove_file) as f:\n",
        "    for line in f:\n",
        "        word, coefs = line.split(maxsplit=1)\n",
        "        coefs = np.fromstring(coefs, \"f\", sep=\" \")\n",
        "        embeddings_index[word] = coefs\n",
        "\n",
        "print(f\"Found {len(embeddings_index)} word vectors.\")"
      ]
    },
    {
      "cell_type": "markdown",
      "metadata": {
        "id": "Ifje0OIGwdhf"
      },
      "source": [
        "**Preparing the GloVe word-embeddings matrix**"
      ]
    },
    {
      "cell_type": "code",
      "execution_count": 15,
      "metadata": {
        "id": "qrHDwTouwdhf"
      },
      "outputs": [],
      "source": [
        "embedding_dim = 100\n",
        "\n",
        "vocabulary = text_vectorization.get_vocabulary()\n",
        "word_index = dict(zip(vocabulary, range(len(vocabulary))))\n",
        "\n",
        "embedding_matrix = np.zeros((max_tokens, embedding_dim))\n",
        "for word, i in word_index.items():\n",
        "    if i < max_tokens:\n",
        "        embedding_vector = embeddings_index.get(word)\n",
        "    if embedding_vector is not None:\n",
        "        embedding_matrix[i] = embedding_vector"
      ]
    },
    {
      "cell_type": "code",
      "execution_count": null,
      "metadata": {
        "id": "QKNclXPawdhf"
      },
      "outputs": [],
      "source": [
        "embedding_layer = layers.Embedding(\n",
        "    max_tokens,\n",
        "    embedding_dim,\n",
        "    embeddings_initializer=keras.initializers.Constant(embedding_matrix),\n",
        "    trainable=False,\n",
        "    mask_zero=True,\n",
        ")"
      ]
    },
    {
      "cell_type": "markdown",
      "metadata": {
        "id": "G8Ss9beXwdhf"
      },
      "source": [
        "**Model that uses a pretrained Embedding layer**"
      ]
    },
    {
      "cell_type": "code",
      "execution_count": 72,
      "metadata": {
        "id": "7_PeVHglwdhf",
        "colab": {
          "base_uri": "https://localhost:8080/"
        },
        "outputId": "d05adfa6-3cee-45c5-d191-3eb625d14eef"
      },
      "outputs": [
        {
          "output_type": "stream",
          "name": "stdout",
          "text": [
            "Model: \"model_21\"\n",
            "_________________________________________________________________\n",
            " Layer (type)                Output Shape              Param #   \n",
            "=================================================================\n",
            " input_22 (InputLayer)       [(None, None)]            0         \n",
            "                                                                 \n",
            " embedding_10 (Embedding)    (None, None, 256)         2560000   \n",
            "                                                                 \n",
            " bidirectional_21 (Bidirect  (None, 64)                73984     \n",
            " ional)                                                          \n",
            "                                                                 \n",
            " dropout_21 (Dropout)        (None, 64)                0         \n",
            "                                                                 \n",
            " dense_21 (Dense)            (None, 1)                 65        \n",
            "                                                                 \n",
            "=================================================================\n",
            "Total params: 2634049 (10.05 MB)\n",
            "Trainable params: 2634049 (10.05 MB)\n",
            "Non-trainable params: 0 (0.00 Byte)\n",
            "_________________________________________________________________\n",
            "Epoch 1/10\n",
            "7/7 [==============================] - 9s 900ms/step - loss: 1.8917 - accuracy: 0.5000 - val_loss: 0.8866 - val_accuracy: 0.5000\n",
            "Epoch 2/10\n",
            "7/7 [==============================] - 5s 798ms/step - loss: 0.7776 - accuracy: 0.5500 - val_loss: 0.7519 - val_accuracy: 0.5059\n",
            "Epoch 3/10\n",
            "7/7 [==============================] - 5s 794ms/step - loss: 0.6445 - accuracy: 0.5950 - val_loss: 0.7397 - val_accuracy: 0.5167\n",
            "Epoch 4/10\n",
            "7/7 [==============================] - 5s 735ms/step - loss: 0.5737 - accuracy: 0.6600 - val_loss: 0.7019 - val_accuracy: 0.5340\n",
            "Epoch 5/10\n",
            "7/7 [==============================] - 4s 717ms/step - loss: 0.4414 - accuracy: 0.8450 - val_loss: 0.7067 - val_accuracy: 0.5446\n",
            "Epoch 6/10\n",
            "7/7 [==============================] - 5s 753ms/step - loss: 0.2946 - accuracy: 0.9150 - val_loss: 0.8867 - val_accuracy: 0.5136\n",
            "Epoch 7/10\n",
            "7/7 [==============================] - 5s 761ms/step - loss: 0.1899 - accuracy: 0.9500 - val_loss: 0.9559 - val_accuracy: 0.5845\n",
            "Epoch 8/10\n",
            "7/7 [==============================] - 5s 738ms/step - loss: 0.0862 - accuracy: 0.9850 - val_loss: 1.0401 - val_accuracy: 0.5612\n",
            "Epoch 9/10\n",
            "7/7 [==============================] - 4s 706ms/step - loss: 0.0411 - accuracy: 0.9950 - val_loss: 0.8439 - val_accuracy: 0.5978\n",
            "Epoch 10/10\n",
            "7/7 [==============================] - 4s 706ms/step - loss: 0.0219 - accuracy: 1.0000 - val_loss: 1.3470 - val_accuracy: 0.5704\n",
            "782/782 [==============================] - 7s 7ms/step - loss: 0.6998 - accuracy: 0.5361\n",
            "Test acc: 0.536\n"
          ]
        }
      ],
      "source": [
        "inputs = keras.Input(shape=(None,), dtype=\"int64\")\n",
        "embedded = embedding_layer(inputs)\n",
        "x = layers.Bidirectional(layers.LSTM(32))(embedded)\n",
        "x = layers.Dropout(0.5)(x)\n",
        "outputs = layers.Dense(1, activation=\"relu\")(x)\n",
        "model = keras.Model(inputs, outputs)\n",
        "model.compile(optimizer=\"rmsprop\",\n",
        "              loss=\"binary_crossentropy\",\n",
        "              metrics=[\"accuracy\"])\n",
        "model.summary()\n",
        "\n",
        "callbacks = [\n",
        "    keras.callbacks.ModelCheckpoint(\"glove_embeddings_sequence_model.keras\",\n",
        "                                    save_best_only=True,\n",
        "                                    monitor=\"val_loss\")\n",
        "]\n",
        "model.fit(int_train_ds, validation_data=int_val_ds, epochs=10, callbacks=callbacks)\n",
        "model = keras.models.load_model(\"glove_embeddings_sequence_model.keras\")\n",
        "print(f\"Test acc: {model.evaluate(int_test_ds)[1]:.3f}\")"
      ]
    },
    {
      "cell_type": "code",
      "source": [],
      "metadata": {
        "id": "seAedOn0OFBf"
      },
      "execution_count": null,
      "outputs": []
    },
    {
      "cell_type": "markdown",
      "source": [
        "# Training Sample Size: 800"
      ],
      "metadata": {
        "id": "6PDoIdUZOkZk"
      }
    },
    {
      "cell_type": "code",
      "execution_count": 73,
      "metadata": {
        "outputId": "619f1531-4544-4553-9a04-73c219b30ffa",
        "colab": {
          "base_uri": "https://localhost:8080/"
        },
        "id": "GTNR2Lck5a48"
      },
      "outputs": [
        {
          "output_type": "stream",
          "name": "stdout",
          "text": [
            "  % Total    % Received % Xferd  Average Speed   Time    Time     Time  Current\n",
            "                                 Dload  Upload   Total   Spent    Left  Speed\n",
            "100 80.2M  100 80.2M    0     0  29.6M      0  0:00:02  0:00:02 --:--:-- 29.6M\n"
          ]
        }
      ],
      "source": [
        "!curl -O https://ai.stanford.edu/~amaas/data/sentiment/aclImdb_v1.tar.gz\n",
        "!tar -xf aclImdb_v1.tar.gz\n",
        "!rm -r aclImdb/train/unsup"
      ]
    },
    {
      "cell_type": "code",
      "source": [
        "shutil.rmtree('aclImdb/val')"
      ],
      "metadata": {
        "id": "x7BBn_sT5a49"
      },
      "execution_count": 74,
      "outputs": []
    },
    {
      "cell_type": "code",
      "execution_count": 75,
      "metadata": {
        "id": "kddenjtO5a49"
      },
      "outputs": [],
      "source": [
        "import os, pathlib, shutil, random\n",
        "from tensorflow import keras\n",
        "batch_size = 32\n",
        "base_dir = pathlib.Path(\"aclImdb\")\n",
        "val_dir = base_dir / \"val\"\n",
        "train_n = base_dir / \"train_n\"\n",
        "train_dir = base_dir / \"train\"\n",
        "for category in (\"neg\", \"pos\"):\n",
        "    os.makedirs(val_dir / category)\n",
        "    files = os.listdir(train_dir / category)\n",
        "    random.Random(1337).shuffle(files)\n",
        "    num_val_samples = 10000\n",
        "    val_files = files[-num_val_samples:]\n",
        "    for fname in val_files:\n",
        "        shutil.move(train_dir / category / fname,\n",
        "                    val_dir / category / fname)"
      ]
    },
    {
      "cell_type": "code",
      "source": [
        "shutil.rmtree('aclImdb/train_n')"
      ],
      "metadata": {
        "id": "ywHAFyDj8I4Q"
      },
      "execution_count": 76,
      "outputs": []
    },
    {
      "cell_type": "code",
      "source": [
        "for category in (\"neg\", \"pos\"):\n",
        "    os.makedirs(train_n / category)\n",
        "    files = os.listdir(train_dir / category)\n",
        "    num_train_samples=800\n",
        "    train_files = files[-num_train_samples:]\n",
        "    for fname in train_files:\n",
        "        shutil.move(train_dir / category / fname,\n",
        "                    train_n / category / fname)\n",
        "\n",
        "train_ds = keras.utils.text_dataset_from_directory(\n",
        "    \"aclImdb/train_n\", batch_size=batch_size\n",
        ")\n",
        "val_ds = keras.utils.text_dataset_from_directory(\n",
        "    \"aclImdb/val\", batch_size=batch_size\n",
        ")\n",
        "test_ds = keras.utils.text_dataset_from_directory(\n",
        "    \"aclImdb/test\", batch_size=batch_size\n",
        ")\n",
        "text_only_train_ds = train_ds.map(lambda x, y: x)"
      ],
      "metadata": {
        "colab": {
          "base_uri": "https://localhost:8080/"
        },
        "outputId": "55202cb5-e29d-4cbe-dab9-1559a66c9353",
        "id": "CsgIxB6JOZ2z"
      },
      "execution_count": 77,
      "outputs": [
        {
          "output_type": "stream",
          "name": "stdout",
          "text": [
            "Found 1600 files belonging to 2 classes.\n",
            "Found 20000 files belonging to 2 classes.\n",
            "Found 25000 files belonging to 2 classes.\n"
          ]
        }
      ]
    },
    {
      "cell_type": "code",
      "execution_count": 78,
      "metadata": {
        "id": "Z-EsurB9OzFr"
      },
      "outputs": [],
      "source": [
        "from tensorflow.keras import layers\n",
        "\n",
        "max_length = 150\n",
        "max_tokens = 10000\n",
        "text_vectorization = layers.TextVectorization(\n",
        "    max_tokens=max_tokens,\n",
        "    output_mode=\"int\",\n",
        "    output_sequence_length=max_length,\n",
        ")\n",
        "text_vectorization.adapt(text_only_train_ds)\n",
        "\n",
        "int_train_ds = train_ds.map(\n",
        "    lambda x, y: (text_vectorization(x), y),\n",
        "    num_parallel_calls=4)\n",
        "int_val_ds = val_ds.map(\n",
        "    lambda x, y: (text_vectorization(x), y),\n",
        "    num_parallel_calls=4)\n",
        "int_test_ds = test_ds.map(\n",
        "    lambda x, y: (text_vectorization(x), y),\n",
        "    num_parallel_calls=4)"
      ]
    },
    {
      "cell_type": "markdown",
      "metadata": {
        "id": "b_CDZS-2wj8i"
      },
      "source": [
        "**A sequence model built on one-hot encoded vector sequences**"
      ]
    },
    {
      "cell_type": "code",
      "execution_count": 80,
      "metadata": {
        "outputId": "9979f975-b7bc-48a2-e8c4-f24b53b8d805",
        "colab": {
          "base_uri": "https://localhost:8080/"
        },
        "id": "aNxXHVmjwj8j"
      },
      "outputs": [
        {
          "output_type": "stream",
          "name": "stdout",
          "text": [
            "Model: \"model_23\"\n",
            "_________________________________________________________________\n",
            " Layer (type)                Output Shape              Param #   \n",
            "=================================================================\n",
            " input_24 (InputLayer)       [(None, None)]            0         \n",
            "                                                                 \n",
            " tf.one_hot_6 (TFOpLambda)   (None, None, 10000)       0         \n",
            "                                                                 \n",
            " bidirectional_23 (Bidirect  (None, 64)                2568448   \n",
            " ional)                                                          \n",
            "                                                                 \n",
            " dropout_23 (Dropout)        (None, 64)                0         \n",
            "                                                                 \n",
            " dense_23 (Dense)            (None, 1)                 65        \n",
            "                                                                 \n",
            "=================================================================\n",
            "Total params: 2568513 (9.80 MB)\n",
            "Trainable params: 2568513 (9.80 MB)\n",
            "Non-trainable params: 0 (0.00 Byte)\n",
            "_________________________________________________________________\n"
          ]
        }
      ],
      "source": [
        "import tensorflow as tf\n",
        "inputs = keras.Input(shape=(None,), dtype=\"int64\")\n",
        "embedded = tf.one_hot(inputs, depth=max_tokens)\n",
        "x = layers.Bidirectional(layers.LSTM(32))(embedded)\n",
        "x = layers.Dropout(0.5)(x)\n",
        "outputs = layers.Dense(1, activation=\"relu\")(x)\n",
        "model = keras.Model(inputs, outputs)\n",
        "model.compile(optimizer=\"rmsprop\",\n",
        "              loss=\"binary_crossentropy\",\n",
        "              metrics=[\"accuracy\"])\n",
        "model.summary()"
      ]
    },
    {
      "cell_type": "markdown",
      "metadata": {
        "id": "pwZa71WBPIaT"
      },
      "source": [
        "**Training a first basic sequence model**"
      ]
    },
    {
      "cell_type": "code",
      "execution_count": 81,
      "metadata": {
        "outputId": "d9e9312c-4f07-44e1-b2d8-67e1ec67a93f",
        "colab": {
          "base_uri": "https://localhost:8080/"
        },
        "id": "a9Ca9R-XPIaT"
      },
      "outputs": [
        {
          "output_type": "stream",
          "name": "stdout",
          "text": [
            "Epoch 1/10\n",
            "50/50 [==============================] - 13s 200ms/step - loss: 0.9255 - accuracy: 0.5238 - val_loss: 0.6659 - val_accuracy: 0.6430\n",
            "Epoch 2/10\n",
            "50/50 [==============================] - 9s 185ms/step - loss: 0.6427 - accuracy: 0.6237 - val_loss: 0.6231 - val_accuracy: 0.6980\n",
            "Epoch 3/10\n",
            "50/50 [==============================] - 9s 186ms/step - loss: 0.5569 - accuracy: 0.7437 - val_loss: 0.5746 - val_accuracy: 0.7151\n",
            "Epoch 4/10\n",
            "50/50 [==============================] - 9s 183ms/step - loss: 0.4761 - accuracy: 0.8444 - val_loss: 0.7267 - val_accuracy: 0.7451\n",
            "Epoch 5/10\n",
            "50/50 [==============================] - 9s 185ms/step - loss: 0.3946 - accuracy: 0.8994 - val_loss: 0.7295 - val_accuracy: 0.7602\n",
            "Epoch 6/10\n",
            "50/50 [==============================] - 9s 183ms/step - loss: 0.1670 - accuracy: 0.9494 - val_loss: 0.9272 - val_accuracy: 0.7412\n",
            "Epoch 7/10\n",
            "50/50 [==============================] - 9s 182ms/step - loss: 4.8936 - accuracy: 0.6338 - val_loss: 7.4211 - val_accuracy: 0.5182\n",
            "Epoch 8/10\n",
            "50/50 [==============================] - 9s 183ms/step - loss: 0.9293 - accuracy: 0.9156 - val_loss: 1.0428 - val_accuracy: 0.7661\n",
            "Epoch 9/10\n",
            "50/50 [==============================] - 9s 182ms/step - loss: 0.0999 - accuracy: 0.9875 - val_loss: 1.9301 - val_accuracy: 0.7793\n",
            "Epoch 10/10\n",
            "50/50 [==============================] - 9s 185ms/step - loss: 0.0665 - accuracy: 0.9856 - val_loss: 1.7318 - val_accuracy: 0.7695\n",
            "782/782 [==============================] - 12s 13ms/step - loss: 0.5790 - accuracy: 0.7080\n",
            "Test acc: 0.708\n"
          ]
        }
      ],
      "source": [
        "callbacks = [\n",
        "    keras.callbacks.ModelCheckpoint(\"one_hot_bidir_lstm.keras\",\n",
        "                                    save_best_only=True,\n",
        "                                    monitor=\"val_loss\")\n",
        "]\n",
        "model.fit(int_train_ds, validation_data=int_val_ds, epochs=10, callbacks=callbacks)\n",
        "model = keras.models.load_model(\"one_hot_bidir_lstm.keras\")\n",
        "print(f\"Test acc: {model.evaluate(int_test_ds)[1]:.3f}\")"
      ]
    },
    {
      "cell_type": "markdown",
      "metadata": {
        "id": "O_Lon4TcPIaU"
      },
      "source": [
        "**Model that uses an `Embedding` layer trained from scratch**"
      ]
    },
    {
      "cell_type": "code",
      "execution_count": 82,
      "metadata": {
        "outputId": "47b65672-4ab1-4293-92ad-ba5b7e09a9b7",
        "colab": {
          "base_uri": "https://localhost:8080/"
        },
        "id": "kfXei0dAwtAm"
      },
      "outputs": [
        {
          "output_type": "stream",
          "name": "stdout",
          "text": [
            "Model: \"model_24\"\n",
            "_________________________________________________________________\n",
            " Layer (type)                Output Shape              Param #   \n",
            "=================================================================\n",
            " input_25 (InputLayer)       [(None, None)]            0         \n",
            "                                                                 \n",
            " embedding_14 (Embedding)    (None, None, 256)         2560000   \n",
            "                                                                 \n",
            " bidirectional_24 (Bidirect  (None, 64)                73984     \n",
            " ional)                                                          \n",
            "                                                                 \n",
            " dropout_24 (Dropout)        (None, 64)                0         \n",
            "                                                                 \n",
            " dense_24 (Dense)            (None, 1)                 65        \n",
            "                                                                 \n",
            "=================================================================\n",
            "Total params: 2634049 (10.05 MB)\n",
            "Trainable params: 2634049 (10.05 MB)\n",
            "Non-trainable params: 0 (0.00 Byte)\n",
            "_________________________________________________________________\n"
          ]
        }
      ],
      "source": [
        "inputs = keras.Input(shape=(None,), dtype=\"int64\")\n",
        "embedded = layers.Embedding(input_dim=max_tokens, output_dim=256)(inputs)\n",
        "x = layers.Bidirectional(layers.LSTM(32))(embedded)\n",
        "x = layers.Dropout(0.5)(x)\n",
        "outputs = layers.Dense(1, activation=\"relu\")(x)\n",
        "model = keras.Model(inputs, outputs)\n",
        "model.compile(optimizer=\"rmsprop\",\n",
        "              loss=\"binary_crossentropy\",\n",
        "              metrics=[\"accuracy\"])\n",
        "model.summary()\n",
        "\n"
      ]
    },
    {
      "cell_type": "code",
      "source": [
        "callbacks = [\n",
        "    keras.callbacks.ModelCheckpoint(\"embeddings_bidir_gru.keras\",\n",
        "                                    save_best_only=True,\n",
        "                                    monitor=\"val_loss\")\n",
        "]\n",
        "model.fit(int_train_ds, validation_data=int_val_ds, epochs=10, callbacks=callbacks)\n",
        "model = keras.models.load_model(\"embeddings_bidir_gru.keras\")\n",
        "print(f\"Test acc: {model.evaluate(int_test_ds)[1]:.3f}\")"
      ],
      "metadata": {
        "colab": {
          "base_uri": "https://localhost:8080/"
        },
        "outputId": "9e3af9c8-2f66-4d05-b968-8729e2b128d5",
        "id": "JFZ3N3gTPIaV"
      },
      "execution_count": 83,
      "outputs": [
        {
          "output_type": "stream",
          "name": "stdout",
          "text": [
            "Epoch 1/10\n",
            "50/50 [==============================] - 12s 174ms/step - loss: 0.8631 - accuracy: 0.5188 - val_loss: 0.6805 - val_accuracy: 0.5563\n",
            "Epoch 2/10\n",
            "50/50 [==============================] - 7s 137ms/step - loss: 0.6208 - accuracy: 0.6525 - val_loss: 0.6161 - val_accuracy: 0.6616\n",
            "Epoch 3/10\n",
            "50/50 [==============================] - 6s 126ms/step - loss: 0.5366 - accuracy: 0.7969 - val_loss: 0.8890 - val_accuracy: 0.6504\n",
            "Epoch 4/10\n",
            "50/50 [==============================] - 6s 121ms/step - loss: 0.3111 - accuracy: 0.8956 - val_loss: 1.0224 - val_accuracy: 0.7226\n",
            "Epoch 5/10\n",
            "50/50 [==============================] - 6s 122ms/step - loss: 0.1944 - accuracy: 0.9556 - val_loss: 1.6019 - val_accuracy: 0.6681\n",
            "Epoch 6/10\n",
            "50/50 [==============================] - 6s 120ms/step - loss: 0.3397 - accuracy: 0.9538 - val_loss: 4.2780 - val_accuracy: 0.6392\n",
            "Epoch 7/10\n",
            "50/50 [==============================] - 6s 117ms/step - loss: 0.1624 - accuracy: 0.9769 - val_loss: 2.2742 - val_accuracy: 0.7195\n",
            "Epoch 8/10\n",
            "50/50 [==============================] - 6s 121ms/step - loss: 0.0498 - accuracy: 0.9931 - val_loss: 1.9188 - val_accuracy: 0.7068\n",
            "Epoch 9/10\n",
            "50/50 [==============================] - 5s 105ms/step - loss: 0.0576 - accuracy: 0.9925 - val_loss: 3.1249 - val_accuracy: 0.6730\n",
            "Epoch 10/10\n",
            "50/50 [==============================] - 5s 103ms/step - loss: 0.0747 - accuracy: 0.9894 - val_loss: 2.4666 - val_accuracy: 0.7003\n",
            "782/782 [==============================] - 7s 7ms/step - loss: 0.6203 - accuracy: 0.6575\n",
            "Test acc: 0.658\n"
          ]
        }
      ]
    },
    {
      "cell_type": "markdown",
      "metadata": {
        "id": "z-n_nj7wPIaV"
      },
      "source": [
        "**Using an `Embedding` layer with masking enabled**"
      ]
    },
    {
      "cell_type": "code",
      "execution_count": 84,
      "metadata": {
        "outputId": "c58ef27a-d4c7-4422-bd5c-656c3fa1d7bb",
        "colab": {
          "base_uri": "https://localhost:8080/"
        },
        "id": "3wnamz0dxCzx"
      },
      "outputs": [
        {
          "output_type": "stream",
          "name": "stdout",
          "text": [
            "Model: \"model_25\"\n",
            "_________________________________________________________________\n",
            " Layer (type)                Output Shape              Param #   \n",
            "=================================================================\n",
            " input_26 (InputLayer)       [(None, None)]            0         \n",
            "                                                                 \n",
            " embedding_15 (Embedding)    (None, None, 256)         2560000   \n",
            "                                                                 \n",
            " bidirectional_25 (Bidirect  (None, 64)                73984     \n",
            " ional)                                                          \n",
            "                                                                 \n",
            " dropout_25 (Dropout)        (None, 64)                0         \n",
            "                                                                 \n",
            " dense_25 (Dense)            (None, 1)                 65        \n",
            "                                                                 \n",
            "=================================================================\n",
            "Total params: 2634049 (10.05 MB)\n",
            "Trainable params: 2634049 (10.05 MB)\n",
            "Non-trainable params: 0 (0.00 Byte)\n",
            "_________________________________________________________________\n"
          ]
        }
      ],
      "source": [
        "inputs = keras.Input(shape=(None,), dtype=\"int64\")\n",
        "embedded = layers.Embedding(\n",
        "    input_dim=max_tokens, output_dim=256, mask_zero=True)(inputs)\n",
        "x = layers.Bidirectional(layers.LSTM(32))(embedded)\n",
        "x = layers.Dropout(0.5)(x)\n",
        "outputs = layers.Dense(1, activation=\"relu\")(x)\n",
        "model = keras.Model(inputs, outputs)\n",
        "model.compile(optimizer=\"rmsprop\",\n",
        "              loss=\"binary_crossentropy\",\n",
        "              metrics=[\"accuracy\"])\n",
        "model.summary()\n",
        "\n"
      ]
    },
    {
      "cell_type": "code",
      "source": [
        "callbacks = [\n",
        "    keras.callbacks.ModelCheckpoint(\"embeddings_bidir_gru_with_masking.keras\",\n",
        "                                    save_best_only=True)\n",
        "]\n",
        "model.fit(int_train_ds, validation_data=int_val_ds, epochs=10, callbacks=callbacks)\n",
        "model = keras.models.load_model(\"embeddings_bidir_gru_with_masking.keras\")\n",
        "print(f\"Test acc: {model.evaluate(int_test_ds)[1]:.3f}\")"
      ],
      "metadata": {
        "colab": {
          "base_uri": "https://localhost:8080/"
        },
        "outputId": "a663d6cc-a36c-41bd-b740-60073ecdb063",
        "id": "Ij465SaPPIaW"
      },
      "execution_count": 85,
      "outputs": [
        {
          "output_type": "stream",
          "name": "stdout",
          "text": [
            "Epoch 1/10\n",
            "50/50 [==============================] - 19s 212ms/step - loss: 0.8332 - accuracy: 0.5387 - val_loss: 0.6604 - val_accuracy: 0.5720\n",
            "Epoch 2/10\n",
            "50/50 [==============================] - 8s 152ms/step - loss: 0.5950 - accuracy: 0.7506 - val_loss: 0.7695 - val_accuracy: 0.6555\n",
            "Epoch 3/10\n",
            "50/50 [==============================] - 7s 141ms/step - loss: 0.2887 - accuracy: 0.9175 - val_loss: 0.8889 - val_accuracy: 0.7430\n",
            "Epoch 4/10\n",
            "50/50 [==============================] - 7s 132ms/step - loss: 0.1389 - accuracy: 0.9644 - val_loss: 1.3124 - val_accuracy: 0.7384\n",
            "Epoch 5/10\n",
            "50/50 [==============================] - 6s 127ms/step - loss: 0.0664 - accuracy: 0.9794 - val_loss: 1.5764 - val_accuracy: 0.7375\n",
            "Epoch 6/10\n",
            "50/50 [==============================] - 6s 127ms/step - loss: 0.0618 - accuracy: 0.9894 - val_loss: 1.9205 - val_accuracy: 0.7311\n",
            "Epoch 7/10\n",
            "50/50 [==============================] - 6s 119ms/step - loss: 0.0420 - accuracy: 0.9956 - val_loss: 2.7730 - val_accuracy: 0.7381\n",
            "Epoch 8/10\n",
            "50/50 [==============================] - 6s 120ms/step - loss: 0.0630 - accuracy: 0.9900 - val_loss: 2.2939 - val_accuracy: 0.7185\n",
            "Epoch 9/10\n",
            "50/50 [==============================] - 6s 117ms/step - loss: 0.0373 - accuracy: 0.9950 - val_loss: 2.2609 - val_accuracy: 0.7380\n",
            "Epoch 10/10\n",
            "50/50 [==============================] - 6s 114ms/step - loss: 0.0381 - accuracy: 0.9944 - val_loss: 2.3825 - val_accuracy: 0.7249\n",
            "782/782 [==============================] - 10s 8ms/step - loss: 0.6610 - accuracy: 0.5739\n",
            "Test acc: 0.574\n"
          ]
        }
      ]
    },
    {
      "cell_type": "code",
      "execution_count": 86,
      "metadata": {
        "colab": {
          "base_uri": "https://localhost:8080/"
        },
        "outputId": "6e66c66a-4a57-4965-bf3c-b17198e229df",
        "id": "gY_P5Of3PIaW"
      },
      "outputs": [
        {
          "output_type": "stream",
          "name": "stdout",
          "text": [
            "Model: \"model_26\"\n",
            "_________________________________________________________________\n",
            " Layer (type)                Output Shape              Param #   \n",
            "=================================================================\n",
            " input_27 (InputLayer)       [(None, None)]            0         \n",
            "                                                                 \n",
            " embedding_10 (Embedding)    (None, None, 256)         2560000   \n",
            "                                                                 \n",
            " bidirectional_26 (Bidirect  (None, 64)                73984     \n",
            " ional)                                                          \n",
            "                                                                 \n",
            " dropout_26 (Dropout)        (None, 64)                0         \n",
            "                                                                 \n",
            " dense_26 (Dense)            (None, 1)                 65        \n",
            "                                                                 \n",
            "=================================================================\n",
            "Total params: 2634049 (10.05 MB)\n",
            "Trainable params: 2634049 (10.05 MB)\n",
            "Non-trainable params: 0 (0.00 Byte)\n",
            "_________________________________________________________________\n",
            "Epoch 1/10\n",
            "50/50 [==============================] - 12s 188ms/step - loss: 0.8277 - accuracy: 0.5194 - val_loss: 0.6730 - val_accuracy: 0.5811\n",
            "Epoch 2/10\n",
            "50/50 [==============================] - 7s 146ms/step - loss: 0.6300 - accuracy: 0.6500 - val_loss: 0.6192 - val_accuracy: 0.6612\n",
            "Epoch 3/10\n",
            "50/50 [==============================] - 6s 129ms/step - loss: 0.4826 - accuracy: 0.8006 - val_loss: 0.8688 - val_accuracy: 0.6552\n",
            "Epoch 4/10\n",
            "50/50 [==============================] - 6s 124ms/step - loss: 0.3695 - accuracy: 0.9056 - val_loss: 0.9261 - val_accuracy: 0.7143\n",
            "Epoch 5/10\n",
            "50/50 [==============================] - 6s 111ms/step - loss: 0.2586 - accuracy: 0.9300 - val_loss: 1.2047 - val_accuracy: 0.7021\n",
            "Epoch 6/10\n",
            "50/50 [==============================] - 6s 119ms/step - loss: 0.1648 - accuracy: 0.9731 - val_loss: 1.6635 - val_accuracy: 0.7360\n",
            "Epoch 7/10\n",
            "50/50 [==============================] - 6s 113ms/step - loss: 0.1256 - accuracy: 0.9762 - val_loss: 2.4898 - val_accuracy: 0.6707\n",
            "Epoch 8/10\n",
            "50/50 [==============================] - 5s 107ms/step - loss: 0.0627 - accuracy: 0.9906 - val_loss: 2.1906 - val_accuracy: 0.7283\n",
            "Epoch 9/10\n",
            "50/50 [==============================] - 5s 100ms/step - loss: 0.0418 - accuracy: 0.9950 - val_loss: 2.4632 - val_accuracy: 0.7147\n",
            "Epoch 10/10\n",
            "50/50 [==============================] - 5s 109ms/step - loss: 0.0553 - accuracy: 0.9906 - val_loss: 2.8267 - val_accuracy: 0.7294\n",
            "782/782 [==============================] - 7s 7ms/step - loss: 0.6186 - accuracy: 0.6593\n",
            "Test acc: 0.659\n"
          ]
        }
      ],
      "source": [
        "inputs = keras.Input(shape=(None,), dtype=\"int64\")\n",
        "embedded = embedding_layer(inputs)\n",
        "x = layers.Bidirectional(layers.LSTM(32))(embedded)\n",
        "x = layers.Dropout(0.5)(x)\n",
        "outputs = layers.Dense(1, activation=\"relu\")(x)\n",
        "model = keras.Model(inputs, outputs)\n",
        "model.compile(optimizer=\"rmsprop\",\n",
        "              loss=\"binary_crossentropy\",\n",
        "              metrics=[\"accuracy\"])\n",
        "model.summary()\n",
        "\n",
        "callbacks = [\n",
        "    keras.callbacks.ModelCheckpoint(\"glove_embeddings_sequence_model.keras\",\n",
        "                                    save_best_only=True,\n",
        "                                    monitor=\"val_loss\")\n",
        "]\n",
        "model.fit(int_train_ds, validation_data=int_val_ds, epochs=10, callbacks=callbacks)\n",
        "model = keras.models.load_model(\"glove_embeddings_sequence_model.keras\")\n",
        "print(f\"Test acc: {model.evaluate(int_test_ds)[1]:.3f}\")"
      ]
    },
    {
      "cell_type": "markdown",
      "source": [
        "# Training Sample Size: 1600"
      ],
      "metadata": {
        "id": "uBzzI5ZuRdSr"
      }
    },
    {
      "cell_type": "code",
      "execution_count": 87,
      "metadata": {
        "outputId": "d49661b0-458b-4c01-998a-2ad0492323c4",
        "colab": {
          "base_uri": "https://localhost:8080/"
        },
        "id": "4oZwVbO75eLj"
      },
      "outputs": [
        {
          "output_type": "stream",
          "name": "stdout",
          "text": [
            "  % Total    % Received % Xferd  Average Speed   Time    Time     Time  Current\n",
            "                                 Dload  Upload   Total   Spent    Left  Speed\n",
            "100 80.2M  100 80.2M    0     0  17.4M      0  0:00:04  0:00:04 --:--:-- 18.8M\n"
          ]
        }
      ],
      "source": [
        "!curl -O https://ai.stanford.edu/~amaas/data/sentiment/aclImdb_v1.tar.gz\n",
        "!tar -xf aclImdb_v1.tar.gz\n",
        "!rm -r aclImdb/train/unsup"
      ]
    },
    {
      "cell_type": "code",
      "source": [
        "shutil.rmtree('aclImdb/val')"
      ],
      "metadata": {
        "id": "TKXzIyfE5eLq"
      },
      "execution_count": 88,
      "outputs": []
    },
    {
      "cell_type": "code",
      "execution_count": 89,
      "metadata": {
        "id": "LFDf836g5eLq"
      },
      "outputs": [],
      "source": [
        "import os, pathlib, shutil, random\n",
        "from tensorflow import keras\n",
        "batch_size = 32\n",
        "base_dir = pathlib.Path(\"aclImdb\")\n",
        "val_dir = base_dir / \"val\"\n",
        "train_n = base_dir / \"train_n\"\n",
        "train_dir = base_dir / \"train\"\n",
        "for category in (\"neg\", \"pos\"):\n",
        "    os.makedirs(val_dir / category)\n",
        "    files = os.listdir(train_dir / category)\n",
        "    random.Random(1337).shuffle(files)\n",
        "    num_val_samples = 10000\n",
        "    val_files = files[-num_val_samples:]\n",
        "    for fname in val_files:\n",
        "        shutil.move(train_dir / category / fname,\n",
        "                    val_dir / category / fname)"
      ]
    },
    {
      "cell_type": "code",
      "source": [
        "shutil.rmtree('aclImdb/train_n')"
      ],
      "metadata": {
        "id": "6NQ7-oJRRsDq"
      },
      "execution_count": 90,
      "outputs": []
    },
    {
      "cell_type": "code",
      "source": [
        "for category in (\"neg\", \"pos\"):\n",
        "    os.makedirs(train_n / category)\n",
        "    files = os.listdir(train_dir / category)\n",
        "    num_train_samples=1600\n",
        "    train_files = files[-num_train_samples:]\n",
        "    for fname in train_files:\n",
        "        shutil.move(train_dir / category / fname,\n",
        "                    train_n / category / fname)\n",
        "\n",
        "train_ds = keras.utils.text_dataset_from_directory(\n",
        "    \"aclImdb/train_n\", batch_size=batch_size\n",
        ")\n",
        "val_ds = keras.utils.text_dataset_from_directory(\n",
        "    \"aclImdb/val\", batch_size=batch_size\n",
        ")\n",
        "test_ds = keras.utils.text_dataset_from_directory(\n",
        "    \"aclImdb/test\", batch_size=batch_size\n",
        ")\n",
        "text_only_train_ds = train_ds.map(lambda x, y: x)"
      ],
      "metadata": {
        "colab": {
          "base_uri": "https://localhost:8080/"
        },
        "outputId": "17be767c-f103-4c96-c9e5-6b997756baff",
        "id": "78-gznzlRdS0"
      },
      "execution_count": 91,
      "outputs": [
        {
          "output_type": "stream",
          "name": "stdout",
          "text": [
            "Found 3200 files belonging to 2 classes.\n",
            "Found 20000 files belonging to 2 classes.\n",
            "Found 25000 files belonging to 2 classes.\n"
          ]
        }
      ]
    },
    {
      "cell_type": "code",
      "execution_count": 92,
      "metadata": {
        "id": "c1AzSRvpRdS0"
      },
      "outputs": [],
      "source": [
        "from tensorflow.keras import layers\n",
        "\n",
        "max_length = 150\n",
        "max_tokens = 10000\n",
        "text_vectorization = layers.TextVectorization(\n",
        "    max_tokens=max_tokens,\n",
        "    output_mode=\"int\",\n",
        "    output_sequence_length=max_length,\n",
        ")\n",
        "text_vectorization.adapt(text_only_train_ds)\n",
        "\n",
        "int_train_ds = train_ds.map(\n",
        "    lambda x, y: (text_vectorization(x), y),\n",
        "    num_parallel_calls=4)\n",
        "int_val_ds = val_ds.map(\n",
        "    lambda x, y: (text_vectorization(x), y),\n",
        "    num_parallel_calls=4)\n",
        "int_test_ds = test_ds.map(\n",
        "    lambda x, y: (text_vectorization(x), y),\n",
        "    num_parallel_calls=4)"
      ]
    },
    {
      "cell_type": "markdown",
      "metadata": {
        "id": "X2Y_wRe4y6Bz"
      },
      "source": [
        "**A sequence model built on one-hot encoded vector sequences**"
      ]
    },
    {
      "cell_type": "code",
      "execution_count": 93,
      "metadata": {
        "outputId": "c50f4efb-ea47-42c8-d473-28180ec7374e",
        "colab": {
          "base_uri": "https://localhost:8080/"
        },
        "id": "7lAuWohfy6Bz"
      },
      "outputs": [
        {
          "output_type": "stream",
          "name": "stdout",
          "text": [
            "Model: \"model_27\"\n",
            "_________________________________________________________________\n",
            " Layer (type)                Output Shape              Param #   \n",
            "=================================================================\n",
            " input_28 (InputLayer)       [(None, None)]            0         \n",
            "                                                                 \n",
            " tf.one_hot_7 (TFOpLambda)   (None, None, 10000)       0         \n",
            "                                                                 \n",
            " bidirectional_27 (Bidirect  (None, 64)                2568448   \n",
            " ional)                                                          \n",
            "                                                                 \n",
            " dropout_27 (Dropout)        (None, 64)                0         \n",
            "                                                                 \n",
            " dense_27 (Dense)            (None, 1)                 65        \n",
            "                                                                 \n",
            "=================================================================\n",
            "Total params: 2568513 (9.80 MB)\n",
            "Trainable params: 2568513 (9.80 MB)\n",
            "Non-trainable params: 0 (0.00 Byte)\n",
            "_________________________________________________________________\n"
          ]
        }
      ],
      "source": [
        "import tensorflow as tf\n",
        "inputs = keras.Input(shape=(None,), dtype=\"int64\")\n",
        "embedded = tf.one_hot(inputs, depth=max_tokens)\n",
        "x = layers.Bidirectional(layers.LSTM(32))(embedded)\n",
        "x = layers.Dropout(0.5)(x)\n",
        "outputs = layers.Dense(1, activation=\"relu\")(x)\n",
        "model = keras.Model(inputs, outputs)\n",
        "model.compile(optimizer=\"rmsprop\",\n",
        "              loss=\"binary_crossentropy\",\n",
        "              metrics=[\"accuracy\"])\n",
        "model.summary()"
      ]
    },
    {
      "cell_type": "markdown",
      "metadata": {
        "id": "tZ5PtGiDRdS0"
      },
      "source": [
        "**Training a first basic sequence model**"
      ]
    },
    {
      "cell_type": "code",
      "execution_count": 94,
      "metadata": {
        "outputId": "b3c1d824-2a42-425a-e5b0-013a928921d6",
        "colab": {
          "base_uri": "https://localhost:8080/"
        },
        "id": "xRQz_OM6RdS0"
      },
      "outputs": [
        {
          "output_type": "stream",
          "name": "stdout",
          "text": [
            "Epoch 1/10\n",
            "100/100 [==============================] - 14s 110ms/step - loss: 0.8218 - accuracy: 0.5416 - val_loss: 0.6312 - val_accuracy: 0.7121\n",
            "Epoch 2/10\n",
            "100/100 [==============================] - 10s 104ms/step - loss: 0.6078 - accuracy: 0.7041 - val_loss: 0.5103 - val_accuracy: 0.7542\n",
            "Epoch 3/10\n",
            "100/100 [==============================] - 10s 102ms/step - loss: 0.5729 - accuracy: 0.8328 - val_loss: 0.7749 - val_accuracy: 0.7243\n",
            "Epoch 4/10\n",
            "100/100 [==============================] - 10s 102ms/step - loss: 0.3805 - accuracy: 0.8856 - val_loss: 0.6372 - val_accuracy: 0.7837\n",
            "Epoch 5/10\n",
            "100/100 [==============================] - 10s 102ms/step - loss: 0.2338 - accuracy: 0.9422 - val_loss: 0.9340 - val_accuracy: 0.7964\n",
            "Epoch 6/10\n",
            "100/100 [==============================] - 10s 102ms/step - loss: 0.1880 - accuracy: 0.9444 - val_loss: 1.2775 - val_accuracy: 0.7919\n",
            "Epoch 7/10\n",
            "100/100 [==============================] - 10s 102ms/step - loss: 0.2000 - accuracy: 0.9684 - val_loss: 1.3876 - val_accuracy: 0.7513\n",
            "Epoch 8/10\n",
            "100/100 [==============================] - 10s 102ms/step - loss: 0.1701 - accuracy: 0.9716 - val_loss: 1.8784 - val_accuracy: 0.7976\n",
            "Epoch 9/10\n",
            "100/100 [==============================] - 10s 102ms/step - loss: 0.1597 - accuracy: 0.9722 - val_loss: 1.2636 - val_accuracy: 0.7676\n",
            "Epoch 10/10\n",
            "100/100 [==============================] - 10s 101ms/step - loss: 0.0732 - accuracy: 0.9872 - val_loss: 1.4698 - val_accuracy: 0.8084\n",
            "782/782 [==============================] - 12s 13ms/step - loss: 0.5138 - accuracy: 0.7413\n",
            "Test acc: 0.741\n"
          ]
        }
      ],
      "source": [
        "callbacks = [\n",
        "    keras.callbacks.ModelCheckpoint(\"one_hot_bidir_lstm.keras\",\n",
        "                                    save_best_only=True,\n",
        "                                    monitor=\"val_loss\")\n",
        "]\n",
        "model.fit(int_train_ds, validation_data=int_val_ds, epochs=10, callbacks=callbacks)\n",
        "model = keras.models.load_model(\"one_hot_bidir_lstm.keras\")\n",
        "print(f\"Test acc: {model.evaluate(int_test_ds)[1]:.3f}\")"
      ]
    },
    {
      "cell_type": "markdown",
      "metadata": {
        "id": "myCvZe0lRdS1"
      },
      "source": [
        "**Model that uses an `Embedding` layer trained from scratch**"
      ]
    },
    {
      "cell_type": "code",
      "execution_count": 95,
      "metadata": {
        "outputId": "5831dccc-ce51-4271-9dbc-7219f80b1cba",
        "colab": {
          "base_uri": "https://localhost:8080/"
        },
        "id": "Cpaz_NMazT5Z"
      },
      "outputs": [
        {
          "output_type": "stream",
          "name": "stdout",
          "text": [
            "Model: \"model_28\"\n",
            "_________________________________________________________________\n",
            " Layer (type)                Output Shape              Param #   \n",
            "=================================================================\n",
            " input_29 (InputLayer)       [(None, None)]            0         \n",
            "                                                                 \n",
            " embedding_16 (Embedding)    (None, None, 256)         2560000   \n",
            "                                                                 \n",
            " bidirectional_28 (Bidirect  (None, 64)                73984     \n",
            " ional)                                                          \n",
            "                                                                 \n",
            " dropout_28 (Dropout)        (None, 64)                0         \n",
            "                                                                 \n",
            " dense_28 (Dense)            (None, 1)                 65        \n",
            "                                                                 \n",
            "=================================================================\n",
            "Total params: 2634049 (10.05 MB)\n",
            "Trainable params: 2634049 (10.05 MB)\n",
            "Non-trainable params: 0 (0.00 Byte)\n",
            "_________________________________________________________________\n"
          ]
        }
      ],
      "source": [
        "inputs = keras.Input(shape=(None,), dtype=\"int64\")\n",
        "embedded = layers.Embedding(input_dim=max_tokens, output_dim=256)(inputs)\n",
        "x = layers.Bidirectional(layers.LSTM(32))(embedded)\n",
        "x = layers.Dropout(0.5)(x)\n",
        "outputs = layers.Dense(1, activation=\"relu\")(x)\n",
        "model = keras.Model(inputs, outputs)\n",
        "model.compile(optimizer=\"rmsprop\",\n",
        "              loss=\"binary_crossentropy\",\n",
        "              metrics=[\"accuracy\"])\n",
        "model.summary()\n",
        "\n"
      ]
    },
    {
      "cell_type": "code",
      "source": [
        "callbacks = [\n",
        "    keras.callbacks.ModelCheckpoint(\"embeddings_bidir_gru.keras\",\n",
        "                                    save_best_only=True,\n",
        "                                    monitor=\"val_loss\")\n",
        "]\n",
        "model.fit(int_train_ds, validation_data=int_val_ds, epochs=10, callbacks=callbacks)\n",
        "model = keras.models.load_model(\"embeddings_bidir_gru.keras\")\n",
        "print(f\"Test acc: {model.evaluate(int_test_ds)[1]:.3f}\")"
      ],
      "metadata": {
        "colab": {
          "base_uri": "https://localhost:8080/"
        },
        "outputId": "d8f67796-9f82-4ce6-bec4-dd14968e8cd4",
        "id": "c0O1cgiLRdS1"
      },
      "execution_count": 96,
      "outputs": [
        {
          "output_type": "stream",
          "name": "stdout",
          "text": [
            "Epoch 1/10\n",
            "100/100 [==============================] - 14s 114ms/step - loss: 0.8118 - accuracy: 0.5638 - val_loss: 0.5774 - val_accuracy: 0.7001\n",
            "Epoch 2/10\n",
            "100/100 [==============================] - 9s 85ms/step - loss: 0.6155 - accuracy: 0.7534 - val_loss: 0.5837 - val_accuracy: 0.7446\n",
            "Epoch 3/10\n",
            "100/100 [==============================] - 7s 73ms/step - loss: 0.4329 - accuracy: 0.8637 - val_loss: 1.2133 - val_accuracy: 0.7515\n",
            "Epoch 4/10\n",
            "100/100 [==============================] - 7s 71ms/step - loss: 0.3596 - accuracy: 0.9109 - val_loss: 1.0515 - val_accuracy: 0.7661\n",
            "Epoch 5/10\n",
            "100/100 [==============================] - 6s 62ms/step - loss: 0.2342 - accuracy: 0.9472 - val_loss: 1.4572 - val_accuracy: 0.7738\n",
            "Epoch 6/10\n",
            "100/100 [==============================] - 6s 61ms/step - loss: 0.1907 - accuracy: 0.9681 - val_loss: 1.7063 - val_accuracy: 0.7720\n",
            "Epoch 7/10\n",
            "100/100 [==============================] - 6s 60ms/step - loss: 0.1384 - accuracy: 0.9797 - val_loss: 2.0417 - val_accuracy: 0.7863\n",
            "Epoch 8/10\n",
            "100/100 [==============================] - 6s 60ms/step - loss: 0.1291 - accuracy: 0.9834 - val_loss: 2.0746 - val_accuracy: 0.7487\n",
            "Epoch 9/10\n",
            "100/100 [==============================] - 6s 58ms/step - loss: 0.1194 - accuracy: 0.9850 - val_loss: 2.3379 - val_accuracy: 0.7764\n",
            "Epoch 10/10\n",
            "100/100 [==============================] - 6s 57ms/step - loss: 0.1249 - accuracy: 0.9859 - val_loss: 2.2613 - val_accuracy: 0.7789\n",
            "782/782 [==============================] - 7s 7ms/step - loss: 0.5812 - accuracy: 0.6968\n",
            "Test acc: 0.697\n"
          ]
        }
      ]
    },
    {
      "cell_type": "markdown",
      "metadata": {
        "id": "mFUvaPCRRdS1"
      },
      "source": [
        "**Using an `Embedding` layer with masking enabled**"
      ]
    },
    {
      "cell_type": "code",
      "execution_count": 97,
      "metadata": {
        "outputId": "f451372f-191d-482f-e261-39aba8443d60",
        "colab": {
          "base_uri": "https://localhost:8080/"
        },
        "id": "UJ64912rzcJE"
      },
      "outputs": [
        {
          "output_type": "stream",
          "name": "stdout",
          "text": [
            "Model: \"model_29\"\n",
            "_________________________________________________________________\n",
            " Layer (type)                Output Shape              Param #   \n",
            "=================================================================\n",
            " input_30 (InputLayer)       [(None, None)]            0         \n",
            "                                                                 \n",
            " embedding_17 (Embedding)    (None, None, 256)         2560000   \n",
            "                                                                 \n",
            " bidirectional_29 (Bidirect  (None, 64)                73984     \n",
            " ional)                                                          \n",
            "                                                                 \n",
            " dropout_29 (Dropout)        (None, 64)                0         \n",
            "                                                                 \n",
            " dense_29 (Dense)            (None, 1)                 65        \n",
            "                                                                 \n",
            "=================================================================\n",
            "Total params: 2634049 (10.05 MB)\n",
            "Trainable params: 2634049 (10.05 MB)\n",
            "Non-trainable params: 0 (0.00 Byte)\n",
            "_________________________________________________________________\n"
          ]
        }
      ],
      "source": [
        "inputs = keras.Input(shape=(None,), dtype=\"int64\")\n",
        "embedded = layers.Embedding(\n",
        "    input_dim=max_tokens, output_dim=256, mask_zero=True)(inputs)\n",
        "x = layers.Bidirectional(layers.LSTM(32))(embedded)\n",
        "x = layers.Dropout(0.5)(x)\n",
        "outputs = layers.Dense(1, activation=\"relu\")(x)\n",
        "model = keras.Model(inputs, outputs)\n",
        "model.compile(optimizer=\"rmsprop\",\n",
        "              loss=\"binary_crossentropy\",\n",
        "              metrics=[\"accuracy\"])\n",
        "model.summary()\n",
        "\n"
      ]
    },
    {
      "cell_type": "code",
      "source": [
        "callbacks = [\n",
        "    keras.callbacks.ModelCheckpoint(\"embeddings_bidir_gru_with_masking.keras\",\n",
        "                                    save_best_only=True)\n",
        "]\n",
        "model.fit(int_train_ds, validation_data=int_val_ds, epochs=10, callbacks=callbacks)\n",
        "model = keras.models.load_model(\"embeddings_bidir_gru_with_masking.keras\")\n",
        "print(f\"Test acc: {model.evaluate(int_test_ds)[1]:.3f}\")"
      ],
      "metadata": {
        "colab": {
          "base_uri": "https://localhost:8080/"
        },
        "outputId": "d972579c-8127-4e65-8d66-164ec1ebd349",
        "id": "3hKjNjG5RdS1"
      },
      "execution_count": 98,
      "outputs": [
        {
          "output_type": "stream",
          "name": "stdout",
          "text": [
            "Epoch 1/10\n",
            "100/100 [==============================] - 20s 133ms/step - loss: 0.7886 - accuracy: 0.6012 - val_loss: 0.5487 - val_accuracy: 0.7365\n",
            "Epoch 2/10\n",
            "100/100 [==============================] - 9s 93ms/step - loss: 0.5285 - accuracy: 0.8059 - val_loss: 0.7809 - val_accuracy: 0.7398\n",
            "Epoch 3/10\n",
            "100/100 [==============================] - 8s 82ms/step - loss: 0.3784 - accuracy: 0.9041 - val_loss: 1.6285 - val_accuracy: 0.7845\n",
            "Epoch 4/10\n",
            "100/100 [==============================] - 8s 79ms/step - loss: 0.2897 - accuracy: 0.9491 - val_loss: 1.5406 - val_accuracy: 0.7961\n",
            "Epoch 5/10\n",
            "100/100 [==============================] - 7s 70ms/step - loss: 0.2180 - accuracy: 0.9613 - val_loss: 1.4738 - val_accuracy: 0.7815\n",
            "Epoch 6/10\n",
            "100/100 [==============================] - 7s 66ms/step - loss: 0.1592 - accuracy: 0.9775 - val_loss: 1.8206 - val_accuracy: 0.7868\n",
            "Epoch 7/10\n",
            "100/100 [==============================] - 7s 67ms/step - loss: 0.1099 - accuracy: 0.9856 - val_loss: 1.7729 - val_accuracy: 0.7749\n",
            "Epoch 8/10\n",
            "100/100 [==============================] - 7s 65ms/step - loss: 0.1018 - accuracy: 0.9894 - val_loss: 2.0727 - val_accuracy: 0.7806\n",
            "Epoch 9/10\n",
            "100/100 [==============================] - 7s 67ms/step - loss: 0.0946 - accuracy: 0.9909 - val_loss: 2.1224 - val_accuracy: 0.7843\n",
            "Epoch 10/10\n",
            "100/100 [==============================] - 7s 65ms/step - loss: 0.0827 - accuracy: 0.9903 - val_loss: 2.2345 - val_accuracy: 0.7779\n",
            "782/782 [==============================] - 10s 7ms/step - loss: 0.5541 - accuracy: 0.7238\n",
            "Test acc: 0.724\n"
          ]
        }
      ]
    },
    {
      "cell_type": "code",
      "execution_count": 99,
      "metadata": {
        "colab": {
          "base_uri": "https://localhost:8080/"
        },
        "outputId": "c74e42e1-a611-4683-a5a7-0791a9c79862",
        "id": "De4Pd04CRdS1"
      },
      "outputs": [
        {
          "output_type": "stream",
          "name": "stdout",
          "text": [
            "Model: \"model_30\"\n",
            "_________________________________________________________________\n",
            " Layer (type)                Output Shape              Param #   \n",
            "=================================================================\n",
            " input_31 (InputLayer)       [(None, None)]            0         \n",
            "                                                                 \n",
            " embedding_10 (Embedding)    (None, None, 256)         2560000   \n",
            "                                                                 \n",
            " bidirectional_30 (Bidirect  (None, 64)                73984     \n",
            " ional)                                                          \n",
            "                                                                 \n",
            " dropout_30 (Dropout)        (None, 64)                0         \n",
            "                                                                 \n",
            " dense_30 (Dense)            (None, 1)                 65        \n",
            "                                                                 \n",
            "=================================================================\n",
            "Total params: 2634049 (10.05 MB)\n",
            "Trainable params: 2634049 (10.05 MB)\n",
            "Non-trainable params: 0 (0.00 Byte)\n",
            "_________________________________________________________________\n",
            "Epoch 1/10\n",
            "100/100 [==============================] - 14s 112ms/step - loss: 0.8863 - accuracy: 0.5213 - val_loss: 0.6534 - val_accuracy: 0.6193\n",
            "Epoch 2/10\n",
            "100/100 [==============================] - 8s 83ms/step - loss: 0.6214 - accuracy: 0.6822 - val_loss: 0.5894 - val_accuracy: 0.6883\n",
            "Epoch 3/10\n",
            "100/100 [==============================] - 7s 73ms/step - loss: 0.4975 - accuracy: 0.8178 - val_loss: 1.0953 - val_accuracy: 0.7497\n",
            "Epoch 4/10\n",
            "100/100 [==============================] - 8s 75ms/step - loss: 0.4327 - accuracy: 0.8872 - val_loss: 1.0923 - val_accuracy: 0.7519\n",
            "Epoch 5/10\n",
            "100/100 [==============================] - 6s 64ms/step - loss: 0.2546 - accuracy: 0.9350 - val_loss: 1.4395 - val_accuracy: 0.7624\n",
            "Epoch 6/10\n",
            "100/100 [==============================] - 6s 59ms/step - loss: 0.2205 - accuracy: 0.9591 - val_loss: 1.8525 - val_accuracy: 0.7645\n",
            "Epoch 7/10\n",
            "100/100 [==============================] - 6s 62ms/step - loss: 0.1214 - accuracy: 0.9806 - val_loss: 1.9674 - val_accuracy: 0.7679\n",
            "Epoch 8/10\n",
            "100/100 [==============================] - 6s 62ms/step - loss: 0.1195 - accuracy: 0.9825 - val_loss: 2.0161 - val_accuracy: 0.7764\n",
            "Epoch 9/10\n",
            "100/100 [==============================] - 6s 60ms/step - loss: 0.1043 - accuracy: 0.9853 - val_loss: 2.2058 - val_accuracy: 0.7404\n",
            "Epoch 10/10\n",
            "100/100 [==============================] - 6s 56ms/step - loss: 0.0746 - accuracy: 0.9881 - val_loss: 2.2890 - val_accuracy: 0.7645\n",
            "782/782 [==============================] - 7s 7ms/step - loss: 0.5913 - accuracy: 0.6807\n",
            "Test acc: 0.681\n"
          ]
        }
      ],
      "source": [
        "inputs = keras.Input(shape=(None,), dtype=\"int64\")\n",
        "embedded = embedding_layer(inputs)\n",
        "x = layers.Bidirectional(layers.LSTM(32))(embedded)\n",
        "x = layers.Dropout(0.5)(x)\n",
        "outputs = layers.Dense(1, activation=\"relu\")(x)\n",
        "model = keras.Model(inputs, outputs)\n",
        "model.compile(optimizer=\"rmsprop\",\n",
        "              loss=\"binary_crossentropy\",\n",
        "              metrics=[\"accuracy\"])\n",
        "model.summary()\n",
        "\n",
        "callbacks = [\n",
        "    keras.callbacks.ModelCheckpoint(\"glove_embeddings_sequence_model.keras\",\n",
        "                                    save_best_only=True,\n",
        "                                    monitor=\"val_loss\")\n",
        "]\n",
        "model.fit(int_train_ds, validation_data=int_val_ds, epochs=10, callbacks=callbacks)\n",
        "model = keras.models.load_model(\"glove_embeddings_sequence_model.keras\")\n",
        "print(f\"Test acc: {model.evaluate(int_test_ds)[1]:.3f}\")"
      ]
    },
    {
      "cell_type": "markdown",
      "source": [
        "# Training Sample Size: 2400"
      ],
      "metadata": {
        "id": "YXMCio3rVglf"
      }
    },
    {
      "cell_type": "code",
      "execution_count": 118,
      "metadata": {
        "outputId": "b040da13-833f-40d8-9356-c25231fccd67",
        "colab": {
          "base_uri": "https://localhost:8080/"
        },
        "id": "PUXnLJ9P5i8i"
      },
      "outputs": [
        {
          "output_type": "stream",
          "name": "stdout",
          "text": [
            "  % Total    % Received % Xferd  Average Speed   Time    Time     Time  Current\n",
            "                                 Dload  Upload   Total   Spent    Left  Speed\n",
            "100 80.2M  100 80.2M    0     0  42.5M      0  0:00:01  0:00:01 --:--:-- 42.5M\n"
          ]
        }
      ],
      "source": [
        "!curl -O https://ai.stanford.edu/~amaas/data/sentiment/aclImdb_v1.tar.gz\n",
        "!tar -xf aclImdb_v1.tar.gz\n",
        "!rm -r aclImdb/train/unsup"
      ]
    },
    {
      "cell_type": "code",
      "source": [
        "shutil.rmtree('aclImdb/val')"
      ],
      "metadata": {
        "id": "Jfp11SAa5i8q"
      },
      "execution_count": 119,
      "outputs": []
    },
    {
      "cell_type": "code",
      "execution_count": 120,
      "metadata": {
        "id": "zoJpts3g5i8q"
      },
      "outputs": [],
      "source": [
        "import os, pathlib, shutil, random\n",
        "from tensorflow import keras\n",
        "batch_size = 32\n",
        "base_dir = pathlib.Path(\"aclImdb\")\n",
        "val_dir = base_dir / \"val\"\n",
        "train_n = base_dir / \"train_n\"\n",
        "train_dir = base_dir / \"train\"\n",
        "for category in (\"neg\", \"pos\"):\n",
        "    os.makedirs(val_dir / category)\n",
        "    files = os.listdir(train_dir / category)\n",
        "    random.Random(1337).shuffle(files)\n",
        "    num_val_samples = 10000\n",
        "    val_files = files[-num_val_samples:]\n",
        "    for fname in val_files:\n",
        "        shutil.move(train_dir / category / fname,\n",
        "                    val_dir / category / fname)"
      ]
    },
    {
      "cell_type": "code",
      "source": [
        "shutil.rmtree('aclImdb/train_n')"
      ],
      "metadata": {
        "id": "V7P3M56SVglg"
      },
      "execution_count": 121,
      "outputs": []
    },
    {
      "cell_type": "code",
      "source": [
        "for category in (\"neg\", \"pos\"):\n",
        "    os.makedirs(train_n / category)\n",
        "    files = os.listdir(train_dir / category)\n",
        "    num_train_samples=2400\n",
        "    train_files = files[-num_train_samples:]\n",
        "    for fname in train_files:\n",
        "        shutil.move(train_dir / category / fname,\n",
        "                    train_n / category / fname)\n",
        "\n",
        "train_ds = keras.utils.text_dataset_from_directory(\n",
        "    \"aclImdb/train_n\", batch_size=batch_size\n",
        ")\n",
        "val_ds = keras.utils.text_dataset_from_directory(\n",
        "    \"aclImdb/val\", batch_size=batch_size\n",
        ")\n",
        "test_ds = keras.utils.text_dataset_from_directory(\n",
        "    \"aclImdb/test\", batch_size=batch_size\n",
        ")\n",
        "text_only_train_ds = train_ds.map(lambda x, y: x)"
      ],
      "metadata": {
        "colab": {
          "base_uri": "https://localhost:8080/"
        },
        "outputId": "86d3e51c-289b-46b5-b03f-6f4176f400b8",
        "id": "Rp2obcJTVglg"
      },
      "execution_count": 122,
      "outputs": [
        {
          "output_type": "stream",
          "name": "stdout",
          "text": [
            "Found 4800 files belonging to 2 classes.\n",
            "Found 20000 files belonging to 2 classes.\n",
            "Found 25000 files belonging to 2 classes.\n"
          ]
        }
      ]
    },
    {
      "cell_type": "code",
      "execution_count": 105,
      "metadata": {
        "id": "EuAoz-2xVglg"
      },
      "outputs": [],
      "source": [
        "from tensorflow.keras import layers\n",
        "\n",
        "max_length = 150\n",
        "max_tokens = 10000\n",
        "text_vectorization = layers.TextVectorization(\n",
        "    max_tokens=max_tokens,\n",
        "    output_mode=\"int\",\n",
        "    output_sequence_length=max_length,\n",
        ")\n",
        "text_vectorization.adapt(text_only_train_ds)\n",
        "\n",
        "int_train_ds = train_ds.map(\n",
        "    lambda x, y: (text_vectorization(x), y),\n",
        "    num_parallel_calls=4)\n",
        "int_val_ds = val_ds.map(\n",
        "    lambda x, y: (text_vectorization(x), y),\n",
        "    num_parallel_calls=4)\n",
        "int_test_ds = test_ds.map(\n",
        "    lambda x, y: (text_vectorization(x), y),\n",
        "    num_parallel_calls=4)"
      ]
    },
    {
      "cell_type": "markdown",
      "metadata": {
        "id": "xJwPBmYGz1bD"
      },
      "source": [
        "**A sequence model built on one-hot encoded vector sequences**"
      ]
    },
    {
      "cell_type": "code",
      "execution_count": 115,
      "metadata": {
        "outputId": "93e09554-d5fe-4bf8-b7de-d775563b3681",
        "colab": {
          "base_uri": "https://localhost:8080/"
        },
        "id": "o_dpIAk6z1bE"
      },
      "outputs": [
        {
          "output_type": "stream",
          "name": "stdout",
          "text": [
            "Model: \"model_36\"\n",
            "_________________________________________________________________\n",
            " Layer (type)                Output Shape              Param #   \n",
            "=================================================================\n",
            " input_37 (InputLayer)       [(None, None)]            0         \n",
            "                                                                 \n",
            " tf.one_hot_10 (TFOpLambda)  (None, None, 10000)       0         \n",
            "                                                                 \n",
            " bidirectional_36 (Bidirect  (None, 64)                2568448   \n",
            " ional)                                                          \n",
            "                                                                 \n",
            " dropout_36 (Dropout)        (None, 64)                0         \n",
            "                                                                 \n",
            " dense_36 (Dense)            (None, 1)                 65        \n",
            "                                                                 \n",
            "=================================================================\n",
            "Total params: 2568513 (9.80 MB)\n",
            "Trainable params: 2568513 (9.80 MB)\n",
            "Non-trainable params: 0 (0.00 Byte)\n",
            "_________________________________________________________________\n"
          ]
        }
      ],
      "source": [
        "import tensorflow as tf\n",
        "inputs = keras.Input(shape=(None,), dtype=\"int64\")\n",
        "embedded = tf.one_hot(inputs, depth=max_tokens)\n",
        "x = layers.Bidirectional(layers.LSTM(32))(embedded)\n",
        "x = layers.Dropout(0.5)(x)\n",
        "outputs = layers.Dense(1, activation=\"relu\")(x)\n",
        "model = keras.Model(inputs, outputs)\n",
        "model.compile(optimizer=\"rmsprop\",\n",
        "              loss=\"binary_crossentropy\",\n",
        "              metrics=[\"accuracy\"])\n",
        "model.summary()"
      ]
    },
    {
      "cell_type": "markdown",
      "metadata": {
        "id": "JbLbXH8ZVglg"
      },
      "source": [
        "**Training a first basic sequence model**"
      ]
    },
    {
      "cell_type": "code",
      "execution_count": 116,
      "metadata": {
        "outputId": "75d0cff3-ebce-41d5-b2b9-4ae919858e4c",
        "colab": {
          "base_uri": "https://localhost:8080/"
        },
        "id": "bivb8eLSVglg"
      },
      "outputs": [
        {
          "output_type": "stream",
          "name": "stdout",
          "text": [
            "Epoch 1/10\n",
            "150/150 [==============================] - 15s 80ms/step - loss: 0.7865 - accuracy: 0.5508 - val_loss: 0.6253 - val_accuracy: 0.6247\n",
            "Epoch 2/10\n",
            "150/150 [==============================] - 11s 76ms/step - loss: 0.6022 - accuracy: 0.7202 - val_loss: 0.5981 - val_accuracy: 0.6761\n",
            "Epoch 3/10\n",
            "150/150 [==============================] - 11s 75ms/step - loss: 0.5621 - accuracy: 0.8325 - val_loss: 0.5605 - val_accuracy: 0.7801\n",
            "Epoch 4/10\n",
            "150/150 [==============================] - 11s 75ms/step - loss: 0.5077 - accuracy: 0.8392 - val_loss: 4.1745 - val_accuracy: 0.6895\n",
            "Epoch 5/10\n",
            "150/150 [==============================] - 11s 74ms/step - loss: 0.4082 - accuracy: 0.8867 - val_loss: 0.6043 - val_accuracy: 0.7845\n",
            "Epoch 6/10\n",
            "150/150 [==============================] - 11s 75ms/step - loss: 0.3092 - accuracy: 0.9148 - val_loss: 0.8699 - val_accuracy: 0.7756\n",
            "Epoch 7/10\n",
            "150/150 [==============================] - 11s 74ms/step - loss: 0.2727 - accuracy: 0.9456 - val_loss: 1.2370 - val_accuracy: 0.8005\n",
            "Epoch 8/10\n",
            "150/150 [==============================] - 11s 75ms/step - loss: 0.2693 - accuracy: 0.9575 - val_loss: 1.4375 - val_accuracy: 0.8057\n",
            "Epoch 9/10\n",
            "150/150 [==============================] - 11s 74ms/step - loss: 0.1609 - accuracy: 0.9694 - val_loss: 1.7880 - val_accuracy: 0.7965\n",
            "Epoch 10/10\n",
            "150/150 [==============================] - 11s 75ms/step - loss: 0.1742 - accuracy: 0.9754 - val_loss: 1.6301 - val_accuracy: 0.8143\n",
            "782/782 [==============================] - 12s 13ms/step - loss: 0.5762 - accuracy: 0.7639\n",
            "Test acc: 0.764\n"
          ]
        }
      ],
      "source": [
        "callbacks = [\n",
        "    keras.callbacks.ModelCheckpoint(\"one_hot_bidir_lstm.keras\",\n",
        "                                    save_best_only=True,\n",
        "                                    monitor=\"val_loss\")\n",
        "]\n",
        "model.fit(int_train_ds, validation_data=int_val_ds, epochs=10, callbacks=callbacks)\n",
        "model = keras.models.load_model(\"one_hot_bidir_lstm.keras\")\n",
        "print(f\"Test acc: {model.evaluate(int_test_ds)[1]:.3f}\")"
      ]
    },
    {
      "cell_type": "markdown",
      "metadata": {
        "id": "j3Kb5Vh1Vglh"
      },
      "source": [
        "**Model that uses an `Embedding` layer trained from scratch**"
      ]
    },
    {
      "cell_type": "code",
      "execution_count": 108,
      "metadata": {
        "outputId": "d7b1bc6e-c041-4c43-c517-b7ba4d691827",
        "colab": {
          "base_uri": "https://localhost:8080/"
        },
        "id": "Q87YeDeJ0Fl9"
      },
      "outputs": [
        {
          "output_type": "stream",
          "name": "stdout",
          "text": [
            "Model: \"model_32\"\n",
            "_________________________________________________________________\n",
            " Layer (type)                Output Shape              Param #   \n",
            "=================================================================\n",
            " input_33 (InputLayer)       [(None, None)]            0         \n",
            "                                                                 \n",
            " embedding_18 (Embedding)    (None, None, 256)         2560000   \n",
            "                                                                 \n",
            " bidirectional_32 (Bidirect  (None, 64)                73984     \n",
            " ional)                                                          \n",
            "                                                                 \n",
            " dropout_32 (Dropout)        (None, 64)                0         \n",
            "                                                                 \n",
            " dense_32 (Dense)            (None, 1)                 65        \n",
            "                                                                 \n",
            "=================================================================\n",
            "Total params: 2634049 (10.05 MB)\n",
            "Trainable params: 2634049 (10.05 MB)\n",
            "Non-trainable params: 0 (0.00 Byte)\n",
            "_________________________________________________________________\n"
          ]
        }
      ],
      "source": [
        "inputs = keras.Input(shape=(None,), dtype=\"int64\")\n",
        "embedded = layers.Embedding(input_dim=max_tokens, output_dim=256)(inputs)\n",
        "x = layers.Bidirectional(layers.LSTM(32))(embedded)\n",
        "x = layers.Dropout(0.5)(x)\n",
        "outputs = layers.Dense(1, activation=\"relu\")(x)\n",
        "model = keras.Model(inputs, outputs)\n",
        "model.compile(optimizer=\"rmsprop\",\n",
        "              loss=\"binary_crossentropy\",\n",
        "              metrics=[\"accuracy\"])\n",
        "model.summary()\n",
        "\n"
      ]
    },
    {
      "cell_type": "code",
      "source": [
        "callbacks = [\n",
        "    keras.callbacks.ModelCheckpoint(\"embeddings_bidir_gru.keras\",\n",
        "                                    save_best_only=True,\n",
        "                                    monitor=\"val_loss\")\n",
        "]\n",
        "model.fit(int_train_ds, validation_data=int_val_ds, epochs=10, callbacks=callbacks)\n",
        "model = keras.models.load_model(\"embeddings_bidir_gru.keras\")\n",
        "print(f\"Test acc: {model.evaluate(int_test_ds)[1]:.3f}\")"
      ],
      "metadata": {
        "colab": {
          "base_uri": "https://localhost:8080/"
        },
        "outputId": "e1de9eba-8674-46ec-8074-c826654f65aa",
        "id": "EmlgBmkwVglh"
      },
      "execution_count": 109,
      "outputs": [
        {
          "output_type": "stream",
          "name": "stdout",
          "text": [
            "Epoch 1/10\n",
            "150/150 [==============================] - 16s 88ms/step - loss: 0.7235 - accuracy: 0.5821 - val_loss: 0.8316 - val_accuracy: 0.6507\n",
            "Epoch 2/10\n",
            "150/150 [==============================] - 9s 62ms/step - loss: 0.5940 - accuracy: 0.7902 - val_loss: 0.6608 - val_accuracy: 0.7768\n",
            "Epoch 3/10\n",
            "150/150 [==============================] - 8s 56ms/step - loss: 0.4604 - accuracy: 0.8683 - val_loss: 1.4596 - val_accuracy: 0.7707\n",
            "Epoch 4/10\n",
            "150/150 [==============================] - 7s 48ms/step - loss: 0.3750 - accuracy: 0.9165 - val_loss: 3.4881 - val_accuracy: 0.6936\n",
            "Epoch 5/10\n",
            "150/150 [==============================] - 7s 45ms/step - loss: 0.2657 - accuracy: 0.9463 - val_loss: 1.3386 - val_accuracy: 0.8046\n",
            "Epoch 6/10\n",
            "150/150 [==============================] - 7s 46ms/step - loss: 0.2947 - accuracy: 0.9592 - val_loss: 1.6646 - val_accuracy: 0.7803\n",
            "Epoch 7/10\n",
            "150/150 [==============================] - 7s 45ms/step - loss: 0.1998 - accuracy: 0.9750 - val_loss: 2.5277 - val_accuracy: 0.7686\n",
            "Epoch 8/10\n",
            "150/150 [==============================] - 7s 45ms/step - loss: 0.1695 - accuracy: 0.9775 - val_loss: 2.0419 - val_accuracy: 0.8027\n",
            "Epoch 9/10\n",
            "150/150 [==============================] - 7s 45ms/step - loss: 0.1595 - accuracy: 0.9798 - val_loss: 2.7800 - val_accuracy: 0.7483\n",
            "Epoch 10/10\n",
            "150/150 [==============================] - 7s 44ms/step - loss: 0.1356 - accuracy: 0.9848 - val_loss: 2.1583 - val_accuracy: 0.7964\n",
            "782/782 [==============================] - 7s 7ms/step - loss: 0.7168 - accuracy: 0.7593\n",
            "Test acc: 0.759\n"
          ]
        }
      ]
    },
    {
      "cell_type": "markdown",
      "metadata": {
        "id": "kVBxVMBgVglh"
      },
      "source": [
        "**Using an `Embedding` layer with masking enabled**"
      ]
    },
    {
      "cell_type": "code",
      "execution_count": 110,
      "metadata": {
        "outputId": "b5099198-fab5-48bb-cad9-0be9a6e6e674",
        "colab": {
          "base_uri": "https://localhost:8080/"
        },
        "id": "Y7av0saF0Msv"
      },
      "outputs": [
        {
          "output_type": "stream",
          "name": "stdout",
          "text": [
            "Model: \"model_33\"\n",
            "_________________________________________________________________\n",
            " Layer (type)                Output Shape              Param #   \n",
            "=================================================================\n",
            " input_34 (InputLayer)       [(None, None)]            0         \n",
            "                                                                 \n",
            " embedding_19 (Embedding)    (None, None, 256)         2560000   \n",
            "                                                                 \n",
            " bidirectional_33 (Bidirect  (None, 64)                73984     \n",
            " ional)                                                          \n",
            "                                                                 \n",
            " dropout_33 (Dropout)        (None, 64)                0         \n",
            "                                                                 \n",
            " dense_33 (Dense)            (None, 1)                 65        \n",
            "                                                                 \n",
            "=================================================================\n",
            "Total params: 2634049 (10.05 MB)\n",
            "Trainable params: 2634049 (10.05 MB)\n",
            "Non-trainable params: 0 (0.00 Byte)\n",
            "_________________________________________________________________\n"
          ]
        }
      ],
      "source": [
        "inputs = keras.Input(shape=(None,), dtype=\"int64\")\n",
        "embedded = layers.Embedding(\n",
        "    input_dim=max_tokens, output_dim=256, mask_zero=True)(inputs)\n",
        "x = layers.Bidirectional(layers.LSTM(32))(embedded)\n",
        "x = layers.Dropout(0.5)(x)\n",
        "outputs = layers.Dense(1, activation=\"relu\")(x)\n",
        "model = keras.Model(inputs, outputs)\n",
        "model.compile(optimizer=\"rmsprop\",\n",
        "              loss=\"binary_crossentropy\",\n",
        "              metrics=[\"accuracy\"])\n",
        "model.summary()\n",
        "\n"
      ]
    },
    {
      "cell_type": "code",
      "source": [
        "callbacks = [\n",
        "    keras.callbacks.ModelCheckpoint(\"embeddings_bidir_gru_with_masking.keras\",\n",
        "                                    save_best_only=True)\n",
        "]\n",
        "model.fit(int_train_ds, validation_data=int_val_ds, epochs=10, callbacks=callbacks)\n",
        "model = keras.models.load_model(\"embeddings_bidir_gru_with_masking.keras\")\n",
        "print(f\"Test acc: {model.evaluate(int_test_ds)[1]:.3f}\")"
      ],
      "metadata": {
        "colab": {
          "base_uri": "https://localhost:8080/"
        },
        "id": "sVpZ8YugVglh",
        "outputId": "bc7f2557-d85d-4588-dcba-c9b73f02ca5d"
      },
      "execution_count": 111,
      "outputs": [
        {
          "output_type": "stream",
          "name": "stdout",
          "text": [
            "Epoch 1/10\n",
            "150/150 [==============================] - 24s 105ms/step - loss: 0.7981 - accuracy: 0.5810 - val_loss: 0.6535 - val_accuracy: 0.6593\n",
            "Epoch 2/10\n",
            "150/150 [==============================] - 11s 72ms/step - loss: 0.5778 - accuracy: 0.7715 - val_loss: 0.7717 - val_accuracy: 0.7883\n",
            "Epoch 3/10\n",
            "150/150 [==============================] - 9s 60ms/step - loss: 0.4565 - accuracy: 0.8481 - val_loss: 0.6678 - val_accuracy: 0.7617\n",
            "Epoch 4/10\n",
            "150/150 [==============================] - 8s 56ms/step - loss: 0.3105 - accuracy: 0.9112 - val_loss: 1.1266 - val_accuracy: 0.7893\n",
            "Epoch 5/10\n",
            "150/150 [==============================] - 8s 51ms/step - loss: 0.2642 - accuracy: 0.9450 - val_loss: 1.6530 - val_accuracy: 0.7831\n",
            "Epoch 6/10\n",
            "150/150 [==============================] - 7s 50ms/step - loss: 0.1855 - accuracy: 0.9669 - val_loss: 1.8064 - val_accuracy: 0.7765\n",
            "Epoch 7/10\n",
            "150/150 [==============================] - 8s 50ms/step - loss: 0.1610 - accuracy: 0.9748 - val_loss: 1.9281 - val_accuracy: 0.7866\n",
            "Epoch 8/10\n",
            "150/150 [==============================] - 7s 50ms/step - loss: 0.1386 - accuracy: 0.9810 - val_loss: 1.9349 - val_accuracy: 0.7974\n",
            "Epoch 9/10\n",
            "150/150 [==============================] - 8s 51ms/step - loss: 0.1206 - accuracy: 0.9842 - val_loss: 2.1599 - val_accuracy: 0.7972\n",
            "Epoch 10/10\n",
            "150/150 [==============================] - 7s 49ms/step - loss: 0.0975 - accuracy: 0.9885 - val_loss: 2.1211 - val_accuracy: 0.7750\n",
            "782/782 [==============================] - 10s 7ms/step - loss: 0.6617 - accuracy: 0.6500\n",
            "Test acc: 0.650\n"
          ]
        }
      ]
    },
    {
      "cell_type": "code",
      "execution_count": 123,
      "metadata": {
        "colab": {
          "base_uri": "https://localhost:8080/"
        },
        "id": "XAlRpW04Vglh",
        "outputId": "b64518be-2440-4c1e-f556-3614d67b9853"
      },
      "outputs": [
        {
          "output_type": "stream",
          "name": "stdout",
          "text": [
            "Model: \"model_38\"\n",
            "_________________________________________________________________\n",
            " Layer (type)                Output Shape              Param #   \n",
            "=================================================================\n",
            " input_39 (InputLayer)       [(None, None)]            0         \n",
            "                                                                 \n",
            " embedding_10 (Embedding)    (None, None, 256)         2560000   \n",
            "                                                                 \n",
            " bidirectional_38 (Bidirect  (None, 64)                73984     \n",
            " ional)                                                          \n",
            "                                                                 \n",
            " dropout_38 (Dropout)        (None, 64)                0         \n",
            "                                                                 \n",
            " dense_38 (Dense)            (None, 1)                 65        \n",
            "                                                                 \n",
            "=================================================================\n",
            "Total params: 2634049 (10.05 MB)\n",
            "Trainable params: 2634049 (10.05 MB)\n",
            "Non-trainable params: 0 (0.00 Byte)\n",
            "_________________________________________________________________\n",
            "Epoch 1/10\n",
            "150/150 [==============================] - 16s 90ms/step - loss: 0.4112 - accuracy: 0.8756 - val_loss: 1.3057 - val_accuracy: 0.7925\n",
            "Epoch 2/10\n",
            "150/150 [==============================] - 10s 65ms/step - loss: 0.1214 - accuracy: 0.9817 - val_loss: 1.9420 - val_accuracy: 0.8055\n",
            "Epoch 3/10\n",
            "150/150 [==============================] - 7s 50ms/step - loss: 0.0813 - accuracy: 0.9896 - val_loss: 1.9894 - val_accuracy: 0.8033\n",
            "Epoch 4/10\n",
            "150/150 [==============================] - 7s 49ms/step - loss: 0.0614 - accuracy: 0.9917 - val_loss: 2.2024 - val_accuracy: 0.7986\n",
            "Epoch 5/10\n",
            "150/150 [==============================] - 8s 50ms/step - loss: 0.0575 - accuracy: 0.9915 - val_loss: 2.3071 - val_accuracy: 0.7968\n",
            "Epoch 6/10\n",
            "150/150 [==============================] - 7s 44ms/step - loss: 0.0603 - accuracy: 0.9923 - val_loss: 2.2915 - val_accuracy: 0.7942\n",
            "Epoch 7/10\n",
            "150/150 [==============================] - 6s 42ms/step - loss: 0.0604 - accuracy: 0.9931 - val_loss: 2.4497 - val_accuracy: 0.7890\n",
            "Epoch 8/10\n",
            "150/150 [==============================] - 7s 44ms/step - loss: 0.0732 - accuracy: 0.9923 - val_loss: 2.3744 - val_accuracy: 0.8005\n",
            "Epoch 9/10\n",
            "150/150 [==============================] - 7s 44ms/step - loss: 0.0578 - accuracy: 0.9942 - val_loss: 2.4252 - val_accuracy: 0.8022\n",
            "Epoch 10/10\n",
            "150/150 [==============================] - 6s 42ms/step - loss: 0.0839 - accuracy: 0.9917 - val_loss: 2.3643 - val_accuracy: 0.7939\n",
            "782/782 [==============================] - 7s 7ms/step - loss: 1.3381 - accuracy: 0.7795\n",
            "Test acc: 0.780\n"
          ]
        }
      ],
      "source": [
        "inputs = keras.Input(shape=(None,), dtype=\"int64\")\n",
        "embedded = embedding_layer(inputs)\n",
        "x = layers.Bidirectional(layers.LSTM(32))(embedded)\n",
        "x = layers.Dropout(0.5)(x)\n",
        "outputs = layers.Dense(1, activation=\"relu\")(x)\n",
        "model = keras.Model(inputs, outputs)\n",
        "model.compile(optimizer=\"rmsprop\",\n",
        "              loss=\"binary_crossentropy\",\n",
        "              metrics=[\"accuracy\"])\n",
        "model.summary()\n",
        "\n",
        "callbacks = [\n",
        "    keras.callbacks.ModelCheckpoint(\"glove_embeddings_sequence_model.keras\",\n",
        "                                    save_best_only=True,\n",
        "                                    monitor=\"val_loss\")\n",
        "]\n",
        "model.fit(int_train_ds, validation_data=int_val_ds, epochs=10, callbacks=callbacks)\n",
        "model = keras.models.load_model(\"glove_embeddings_sequence_model.keras\")\n",
        "print(f\"Test acc: {model.evaluate(int_test_ds)[1]:.3f}\")"
      ]
    }
  ]
}